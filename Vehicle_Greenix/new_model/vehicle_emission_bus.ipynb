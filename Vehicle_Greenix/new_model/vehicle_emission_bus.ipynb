{
  "cells": [
    {
      "cell_type": "markdown",
      "metadata": {
        "id": "view-in-github",
        "colab_type": "text"
      },
      "source": [
        "<a href=\"https://colab.research.google.com/github/greenixproject/machine-learning/blob/main/Vehicle_Greenix/new_model/vehicle_emission_bus.ipynb\" target=\"_parent\"><img src=\"https://colab.research.google.com/assets/colab-badge.svg\" alt=\"Open In Colab\"/></a>"
      ]
    },
    {
      "cell_type": "markdown",
      "metadata": {
        "id": "eb59f57a-145c-4291-9810-7991d64a2693"
      },
      "source": [
        "EMISI CARBON (CO2) FOOTPRINT VEHICLE BUS\n",
        "1. Emisi karbon banyak terutama dari aktivitas sehari-hari kendaraan bermotor salah satunya yaitu bis.\n",
        "2. Awareness masyarakat masih kurang tentang karbon yang dapat dihasilkan\n",
        "3. Dari permasalahan tersebut, pada project kali ini kami akan membuat prediksi emisi karbon yang dihasilkan dari kendaraan bermotor\n",
        "4. Data yang kami gunakan diambil dan dikumpulkan dari survei kepada responden, jurnal dan website lainnya\n"
      ],
      "id": "eb59f57a-145c-4291-9810-7991d64a2693"
    },
    {
      "cell_type": "code",
      "execution_count": null,
      "metadata": {
        "colab": {
          "base_uri": "https://localhost:8080/"
        },
        "id": "14727ac1-1e7d-4eac-a06c-3fd181e00dbb",
        "outputId": "f3bdfc34-a34d-432d-bb2a-f4bde107086a"
      },
      "outputs": [
        {
          "output_type": "stream",
          "name": "stdout",
          "text": [
            "Looking in indexes: https://pypi.org/simple, https://us-python.pkg.dev/colab-wheels/public/simple/\n",
            "Requirement already satisfied: tensorflow==2.8.0 in /usr/local/lib/python3.10/dist-packages (2.8.0)\n",
            "Requirement already satisfied: absl-py>=0.4.0 in /usr/local/lib/python3.10/dist-packages (from tensorflow==2.8.0) (1.4.0)\n",
            "Requirement already satisfied: astunparse>=1.6.0 in /usr/local/lib/python3.10/dist-packages (from tensorflow==2.8.0) (1.6.3)\n",
            "Requirement already satisfied: flatbuffers>=1.12 in /usr/local/lib/python3.10/dist-packages (from tensorflow==2.8.0) (23.3.3)\n",
            "Requirement already satisfied: gast>=0.2.1 in /usr/local/lib/python3.10/dist-packages (from tensorflow==2.8.0) (0.4.0)\n",
            "Requirement already satisfied: google-pasta>=0.1.1 in /usr/local/lib/python3.10/dist-packages (from tensorflow==2.8.0) (0.2.0)\n",
            "Requirement already satisfied: h5py>=2.9.0 in /usr/local/lib/python3.10/dist-packages (from tensorflow==2.8.0) (3.8.0)\n",
            "Requirement already satisfied: keras-preprocessing>=1.1.1 in /usr/local/lib/python3.10/dist-packages (from tensorflow==2.8.0) (1.1.2)\n",
            "Requirement already satisfied: libclang>=9.0.1 in /usr/local/lib/python3.10/dist-packages (from tensorflow==2.8.0) (16.0.0)\n",
            "Requirement already satisfied: numpy>=1.20 in /usr/local/lib/python3.10/dist-packages (from tensorflow==2.8.0) (1.22.4)\n",
            "Requirement already satisfied: opt-einsum>=2.3.2 in /usr/local/lib/python3.10/dist-packages (from tensorflow==2.8.0) (3.3.0)\n",
            "Requirement already satisfied: protobuf>=3.9.2 in /usr/local/lib/python3.10/dist-packages (from tensorflow==2.8.0) (3.20.3)\n",
            "Requirement already satisfied: setuptools in /usr/local/lib/python3.10/dist-packages (from tensorflow==2.8.0) (67.7.2)\n",
            "Requirement already satisfied: six>=1.12.0 in /usr/local/lib/python3.10/dist-packages (from tensorflow==2.8.0) (1.16.0)\n",
            "Requirement already satisfied: termcolor>=1.1.0 in /usr/local/lib/python3.10/dist-packages (from tensorflow==2.8.0) (2.3.0)\n",
            "Requirement already satisfied: typing-extensions>=3.6.6 in /usr/local/lib/python3.10/dist-packages (from tensorflow==2.8.0) (4.5.0)\n",
            "Requirement already satisfied: wrapt>=1.11.0 in /usr/local/lib/python3.10/dist-packages (from tensorflow==2.8.0) (1.14.1)\n",
            "Requirement already satisfied: tensorboard<2.9,>=2.8 in /usr/local/lib/python3.10/dist-packages (from tensorflow==2.8.0) (2.8.0)\n",
            "Requirement already satisfied: tf-estimator-nightly==2.8.0.dev2021122109 in /usr/local/lib/python3.10/dist-packages (from tensorflow==2.8.0) (2.8.0.dev2021122109)\n",
            "Requirement already satisfied: keras<2.9,>=2.8.0rc0 in /usr/local/lib/python3.10/dist-packages (from tensorflow==2.8.0) (2.8.0)\n",
            "Requirement already satisfied: tensorflow-io-gcs-filesystem>=0.23.1 in /usr/local/lib/python3.10/dist-packages (from tensorflow==2.8.0) (0.32.0)\n",
            "Requirement already satisfied: grpcio<2.0,>=1.24.3 in /usr/local/lib/python3.10/dist-packages (from tensorflow==2.8.0) (1.54.0)\n",
            "Requirement already satisfied: wheel<1.0,>=0.23.0 in /usr/local/lib/python3.10/dist-packages (from astunparse>=1.6.0->tensorflow==2.8.0) (0.40.0)\n",
            "Requirement already satisfied: google-auth<3,>=1.6.3 in /usr/local/lib/python3.10/dist-packages (from tensorboard<2.9,>=2.8->tensorflow==2.8.0) (2.17.3)\n",
            "Requirement already satisfied: google-auth-oauthlib<0.5,>=0.4.1 in /usr/local/lib/python3.10/dist-packages (from tensorboard<2.9,>=2.8->tensorflow==2.8.0) (0.4.6)\n",
            "Requirement already satisfied: markdown>=2.6.8 in /usr/local/lib/python3.10/dist-packages (from tensorboard<2.9,>=2.8->tensorflow==2.8.0) (3.4.3)\n",
            "Requirement already satisfied: requests<3,>=2.21.0 in /usr/local/lib/python3.10/dist-packages (from tensorboard<2.9,>=2.8->tensorflow==2.8.0) (2.27.1)\n",
            "Requirement already satisfied: tensorboard-data-server<0.7.0,>=0.6.0 in /usr/local/lib/python3.10/dist-packages (from tensorboard<2.9,>=2.8->tensorflow==2.8.0) (0.6.1)\n",
            "Requirement already satisfied: tensorboard-plugin-wit>=1.6.0 in /usr/local/lib/python3.10/dist-packages (from tensorboard<2.9,>=2.8->tensorflow==2.8.0) (1.8.1)\n",
            "Requirement already satisfied: werkzeug>=0.11.15 in /usr/local/lib/python3.10/dist-packages (from tensorboard<2.9,>=2.8->tensorflow==2.8.0) (2.3.0)\n",
            "Requirement already satisfied: cachetools<6.0,>=2.0.0 in /usr/local/lib/python3.10/dist-packages (from google-auth<3,>=1.6.3->tensorboard<2.9,>=2.8->tensorflow==2.8.0) (5.3.0)\n",
            "Requirement already satisfied: pyasn1-modules>=0.2.1 in /usr/local/lib/python3.10/dist-packages (from google-auth<3,>=1.6.3->tensorboard<2.9,>=2.8->tensorflow==2.8.0) (0.3.0)\n",
            "Requirement already satisfied: rsa<5,>=3.1.4 in /usr/local/lib/python3.10/dist-packages (from google-auth<3,>=1.6.3->tensorboard<2.9,>=2.8->tensorflow==2.8.0) (4.9)\n",
            "Requirement already satisfied: requests-oauthlib>=0.7.0 in /usr/local/lib/python3.10/dist-packages (from google-auth-oauthlib<0.5,>=0.4.1->tensorboard<2.9,>=2.8->tensorflow==2.8.0) (1.3.1)\n",
            "Requirement already satisfied: urllib3<1.27,>=1.21.1 in /usr/local/lib/python3.10/dist-packages (from requests<3,>=2.21.0->tensorboard<2.9,>=2.8->tensorflow==2.8.0) (1.26.15)\n",
            "Requirement already satisfied: certifi>=2017.4.17 in /usr/local/lib/python3.10/dist-packages (from requests<3,>=2.21.0->tensorboard<2.9,>=2.8->tensorflow==2.8.0) (2022.12.7)\n",
            "Requirement already satisfied: charset-normalizer~=2.0.0 in /usr/local/lib/python3.10/dist-packages (from requests<3,>=2.21.0->tensorboard<2.9,>=2.8->tensorflow==2.8.0) (2.0.12)\n",
            "Requirement already satisfied: idna<4,>=2.5 in /usr/local/lib/python3.10/dist-packages (from requests<3,>=2.21.0->tensorboard<2.9,>=2.8->tensorflow==2.8.0) (3.4)\n",
            "Requirement already satisfied: MarkupSafe>=2.1.1 in /usr/local/lib/python3.10/dist-packages (from werkzeug>=0.11.15->tensorboard<2.9,>=2.8->tensorflow==2.8.0) (2.1.2)\n",
            "Requirement already satisfied: pyasn1<0.6.0,>=0.4.6 in /usr/local/lib/python3.10/dist-packages (from pyasn1-modules>=0.2.1->google-auth<3,>=1.6.3->tensorboard<2.9,>=2.8->tensorflow==2.8.0) (0.5.0)\n",
            "Requirement already satisfied: oauthlib>=3.0.0 in /usr/local/lib/python3.10/dist-packages (from requests-oauthlib>=0.7.0->google-auth-oauthlib<0.5,>=0.4.1->tensorboard<2.9,>=2.8->tensorflow==2.8.0) (3.2.2)\n"
          ]
        }
      ],
      "source": [
        "!pip install tensorflow==2.8.0"
      ],
      "id": "14727ac1-1e7d-4eac-a06c-3fd181e00dbb"
    },
    {
      "cell_type": "code",
      "execution_count": null,
      "metadata": {
        "id": "f60946c7-8a76-4210-99eb-204fd22ad578"
      },
      "outputs": [],
      "source": [
        "# Import library\n",
        "import pandas as pd\n",
        "import numpy as np\n",
        "from scipy import stats\n",
        "\n",
        "from sklearn import linear_model\n",
        "from sklearn.model_selection import train_test_split\n",
        "from sklearn.linear_model import LinearRegression\n",
        "from sklearn.metrics import mean_squared_error, r2_score\n",
        "from sklearn.preprocessing import StandardScaler\n",
        "from sklearn.metrics import mean_squared_error\n",
        "\n",
        "import tensorflow as tf\n",
        "from tensorflow.keras.models import Sequential\n",
        "from tensorflow.keras.layers import Dense\n",
        "from tensorflow.keras.models import save_model\n",
        "\n",
        "import matplotlib.pyplot as plt\n",
        "import seaborn as sns"
      ],
      "id": "f60946c7-8a76-4210-99eb-204fd22ad578"
    },
    {
      "cell_type": "code",
      "execution_count": null,
      "metadata": {
        "colab": {
          "base_uri": "https://localhost:8080/"
        },
        "id": "dy441P_y0t4b",
        "outputId": "3c7c6cf6-cb8c-42c9-8e5b-50db37f27594"
      },
      "outputs": [
        {
          "output_type": "stream",
          "name": "stdout",
          "text": [
            "Mounted at /content/drive\n"
          ]
        }
      ],
      "source": [
        "from google.colab import drive\n",
        "drive.mount('/content/drive', force_remount=True)"
      ],
      "id": "dy441P_y0t4b"
    },
    {
      "cell_type": "markdown",
      "metadata": {
        "id": "NJcTypnnU7wM"
      },
      "source": [
        "## Load Data"
      ],
      "id": "NJcTypnnU7wM"
    },
    {
      "cell_type": "code",
      "execution_count": null,
      "metadata": {
        "colab": {
          "base_uri": "https://localhost:8080/"
        },
        "id": "OhO6QUF9b29L",
        "outputId": "353e14ba-53a8-4866-e82f-4dccef8c8bd7"
      },
      "outputs": [
        {
          "output_type": "stream",
          "name": "stdout",
          "text": [
            "   no         nama                         email bus_class fuel_type  \\\n",
            "0   1    Balqis **         *******lqis@gmail.com     Large    Diesel   \n",
            "1   2  Azzahra ***           *******nt@gmail.com     Large    Diesel   \n",
            "2   3   Brandon **          *******a@hotmail.com     Large    Diesel   \n",
            "3   4     Syifa **  *******khrunnisa27@gmail.com     Large    Diesel   \n",
            "4   5      Sofaa *         *******hada@gmail.com     Large    Diesel   \n",
            "\n",
            "   bus_capacity  fuel_consumption  emission_factor  distanced  emissions  \n",
            "0            50              30.0              9.0         37      12.06  \n",
            "1            50              30.0              9.0         90      21.60  \n",
            "2            50              30.0              9.0         91      21.78  \n",
            "3            50              30.0              9.0         48      14.04  \n",
            "4            50              30.0              9.0         67      17.46  \n"
          ]
        }
      ],
      "source": [
        "# Menentukan path file CSV yang telah diunggah\n",
        "file_path = '/content/drive/MyDrive/Vehicle_Greenix/Dataset/vehicle_bus.csv'\n",
        "\n",
        "# Membaca file CSV ke DataFrame\n",
        "df = pd.read_csv(file_path)\n",
        "\n",
        "# Menampilkan beberapa baris pertama DataFrame\n",
        "print(df.head())"
      ],
      "id": "OhO6QUF9b29L"
    },
    {
      "cell_type": "markdown",
      "metadata": {
        "id": "ZImOZswUVKP9"
      },
      "source": [
        "Keterangan kolom:\n",
        "- nomer: Nomor urut responden\n",
        "- nama: Nama responden\n",
        "- email: Email responden\n",
        "- bus_class : Pembagian Jenis-jenis bis berdasarkan ukuran bis dimana dibagi 3 jenis yaitu Small, Medium, Large\n",
        "- bus_capacity : Kapasitas untuk masing-masing bus\n",
        "- fuel_type : Pembagian Jenis bahan bakar yang biasanya digunakan pada motor di Indonesia yaitu Diesel (Solar dan Dex).\n",
        "- fuel_consumption: Konsumsi bahan bakar setiap jenis bis dengan skala 1L / 100KM\n",
        "- emmisions_factor: Faktor emisi berdasarkan jenis bahan bakarnya\n",
        "- distanced: Jarak yang ditempuh oleh kendaraan dalam sekali perjalanan dengan satuan kilometer\n",
        "- emissions: Nilai emisi yang dihasilkan tiap kendaraan dengan formula\n",
        "emisi = ((jarak + konsumsi bahan bakar) * faktor emisi)"
      ],
      "id": "ZImOZswUVKP9"
    },
    {
      "cell_type": "markdown",
      "metadata": {
        "id": "65bbcbde-2bf0-4727-beaf-f55b9eddd8e5"
      },
      "source": [
        "## DATA CLEANING"
      ],
      "id": "65bbcbde-2bf0-4727-beaf-f55b9eddd8e5"
    },
    {
      "cell_type": "code",
      "execution_count": null,
      "metadata": {
        "colab": {
          "base_uri": "https://localhost:8080/"
        },
        "id": "FsEkZBFAVE0G",
        "outputId": "798ec097-a3be-4777-86c2-b729d983464a"
      },
      "outputs": [
        {
          "output_type": "execute_result",
          "data": {
            "text/plain": [
              "0"
            ]
          },
          "metadata": {},
          "execution_count": 5
        }
      ],
      "source": [
        "# cek data duplikat\n",
        "df.duplicated().sum()"
      ],
      "id": "FsEkZBFAVE0G"
    },
    {
      "cell_type": "code",
      "execution_count": null,
      "metadata": {
        "id": "og-cB2x9VYhK"
      },
      "outputs": [],
      "source": [
        "# Membersihkan data yang tidak lengkap (Jika ada)\n",
        "df = df.dropna(axis=0)"
      ],
      "id": "og-cB2x9VYhK"
    },
    {
      "cell_type": "code",
      "execution_count": null,
      "metadata": {
        "id": "505f80a1-87a4-4fc9-90c2-557c04af2883"
      },
      "outputs": [],
      "source": [
        "df = df.drop(['no',\t'nama',\t'email', 'fuel_type', 'bus_capacity'], axis=1)"
      ],
      "id": "505f80a1-87a4-4fc9-90c2-557c04af2883"
    },
    {
      "cell_type": "markdown",
      "metadata": {
        "id": "HHiwRPSTXZ9P"
      },
      "source": [
        "## Data Preprocessing"
      ],
      "id": "HHiwRPSTXZ9P"
    },
    {
      "cell_type": "code",
      "execution_count": null,
      "metadata": {
        "id": "SQmL1Z3AXZKN"
      },
      "outputs": [],
      "source": [
        "# Mengambil kolom numerik untuk perhitungan Z-score\n",
        "numeric_columns = ['fuel_consumption',\t'emission_factor',\t'distanced', 'emissions']"
      ],
      "id": "SQmL1Z3AXZKN"
    },
    {
      "cell_type": "code",
      "execution_count": null,
      "metadata": {
        "id": "ybDi2uB7XnRl"
      },
      "outputs": [],
      "source": [
        "# Mendeteksi outliers dengan Z-score\n",
        "z_scores = stats.zscore(df[numeric_columns])\n",
        "abs_z_scores = np.abs(z_scores)\n",
        "filtered_entries = (abs_z_scores < 3).all(axis=1)\n",
        "# Menghilangkan data dengan Z-score lebih dari 3\n",
        "data = df[filtered_entries]"
      ],
      "id": "ybDi2uB7XnRl"
    },
    {
      "cell_type": "markdown",
      "metadata": {
        "id": "dqvCAuoWVS9H"
      },
      "source": [
        "## Eksplorasi Data"
      ],
      "id": "dqvCAuoWVS9H"
    },
    {
      "cell_type": "code",
      "execution_count": null,
      "metadata": {
        "colab": {
          "base_uri": "https://localhost:8080/",
          "height": 206
        },
        "id": "lNgAPXmbV8GK",
        "outputId": "f42e71a8-54b8-4715-c463-992aa0a047e7"
      },
      "outputs": [
        {
          "output_type": "execute_result",
          "data": {
            "text/plain": [
              "  bus_class  fuel_consumption  emission_factor  distanced  emissions\n",
              "0     Large              30.0              9.0         37      12.06\n",
              "1     Large              30.0              9.0         90      21.60\n",
              "2     Large              30.0              9.0         91      21.78\n",
              "3     Large              30.0              9.0         48      14.04\n",
              "4     Large              30.0              9.0         67      17.46"
            ],
            "text/html": [
              "\n",
              "  <div id=\"df-1672e1f3-1816-4074-b92d-ee42fef1c657\">\n",
              "    <div class=\"colab-df-container\">\n",
              "      <div>\n",
              "<style scoped>\n",
              "    .dataframe tbody tr th:only-of-type {\n",
              "        vertical-align: middle;\n",
              "    }\n",
              "\n",
              "    .dataframe tbody tr th {\n",
              "        vertical-align: top;\n",
              "    }\n",
              "\n",
              "    .dataframe thead th {\n",
              "        text-align: right;\n",
              "    }\n",
              "</style>\n",
              "<table border=\"1\" class=\"dataframe\">\n",
              "  <thead>\n",
              "    <tr style=\"text-align: right;\">\n",
              "      <th></th>\n",
              "      <th>bus_class</th>\n",
              "      <th>fuel_consumption</th>\n",
              "      <th>emission_factor</th>\n",
              "      <th>distanced</th>\n",
              "      <th>emissions</th>\n",
              "    </tr>\n",
              "  </thead>\n",
              "  <tbody>\n",
              "    <tr>\n",
              "      <th>0</th>\n",
              "      <td>Large</td>\n",
              "      <td>30.0</td>\n",
              "      <td>9.0</td>\n",
              "      <td>37</td>\n",
              "      <td>12.06</td>\n",
              "    </tr>\n",
              "    <tr>\n",
              "      <th>1</th>\n",
              "      <td>Large</td>\n",
              "      <td>30.0</td>\n",
              "      <td>9.0</td>\n",
              "      <td>90</td>\n",
              "      <td>21.60</td>\n",
              "    </tr>\n",
              "    <tr>\n",
              "      <th>2</th>\n",
              "      <td>Large</td>\n",
              "      <td>30.0</td>\n",
              "      <td>9.0</td>\n",
              "      <td>91</td>\n",
              "      <td>21.78</td>\n",
              "    </tr>\n",
              "    <tr>\n",
              "      <th>3</th>\n",
              "      <td>Large</td>\n",
              "      <td>30.0</td>\n",
              "      <td>9.0</td>\n",
              "      <td>48</td>\n",
              "      <td>14.04</td>\n",
              "    </tr>\n",
              "    <tr>\n",
              "      <th>4</th>\n",
              "      <td>Large</td>\n",
              "      <td>30.0</td>\n",
              "      <td>9.0</td>\n",
              "      <td>67</td>\n",
              "      <td>17.46</td>\n",
              "    </tr>\n",
              "  </tbody>\n",
              "</table>\n",
              "</div>\n",
              "      <button class=\"colab-df-convert\" onclick=\"convertToInteractive('df-1672e1f3-1816-4074-b92d-ee42fef1c657')\"\n",
              "              title=\"Convert this dataframe to an interactive table.\"\n",
              "              style=\"display:none;\">\n",
              "        \n",
              "  <svg xmlns=\"http://www.w3.org/2000/svg\" height=\"24px\"viewBox=\"0 0 24 24\"\n",
              "       width=\"24px\">\n",
              "    <path d=\"M0 0h24v24H0V0z\" fill=\"none\"/>\n",
              "    <path d=\"M18.56 5.44l.94 2.06.94-2.06 2.06-.94-2.06-.94-.94-2.06-.94 2.06-2.06.94zm-11 1L8.5 8.5l.94-2.06 2.06-.94-2.06-.94L8.5 2.5l-.94 2.06-2.06.94zm10 10l.94 2.06.94-2.06 2.06-.94-2.06-.94-.94-2.06-.94 2.06-2.06.94z\"/><path d=\"M17.41 7.96l-1.37-1.37c-.4-.4-.92-.59-1.43-.59-.52 0-1.04.2-1.43.59L10.3 9.45l-7.72 7.72c-.78.78-.78 2.05 0 2.83L4 21.41c.39.39.9.59 1.41.59.51 0 1.02-.2 1.41-.59l7.78-7.78 2.81-2.81c.8-.78.8-2.07 0-2.86zM5.41 20L4 18.59l7.72-7.72 1.47 1.35L5.41 20z\"/>\n",
              "  </svg>\n",
              "      </button>\n",
              "      \n",
              "  <style>\n",
              "    .colab-df-container {\n",
              "      display:flex;\n",
              "      flex-wrap:wrap;\n",
              "      gap: 12px;\n",
              "    }\n",
              "\n",
              "    .colab-df-convert {\n",
              "      background-color: #E8F0FE;\n",
              "      border: none;\n",
              "      border-radius: 50%;\n",
              "      cursor: pointer;\n",
              "      display: none;\n",
              "      fill: #1967D2;\n",
              "      height: 32px;\n",
              "      padding: 0 0 0 0;\n",
              "      width: 32px;\n",
              "    }\n",
              "\n",
              "    .colab-df-convert:hover {\n",
              "      background-color: #E2EBFA;\n",
              "      box-shadow: 0px 1px 2px rgba(60, 64, 67, 0.3), 0px 1px 3px 1px rgba(60, 64, 67, 0.15);\n",
              "      fill: #174EA6;\n",
              "    }\n",
              "\n",
              "    [theme=dark] .colab-df-convert {\n",
              "      background-color: #3B4455;\n",
              "      fill: #D2E3FC;\n",
              "    }\n",
              "\n",
              "    [theme=dark] .colab-df-convert:hover {\n",
              "      background-color: #434B5C;\n",
              "      box-shadow: 0px 1px 3px 1px rgba(0, 0, 0, 0.15);\n",
              "      filter: drop-shadow(0px 1px 2px rgba(0, 0, 0, 0.3));\n",
              "      fill: #FFFFFF;\n",
              "    }\n",
              "  </style>\n",
              "\n",
              "      <script>\n",
              "        const buttonEl =\n",
              "          document.querySelector('#df-1672e1f3-1816-4074-b92d-ee42fef1c657 button.colab-df-convert');\n",
              "        buttonEl.style.display =\n",
              "          google.colab.kernel.accessAllowed ? 'block' : 'none';\n",
              "\n",
              "        async function convertToInteractive(key) {\n",
              "          const element = document.querySelector('#df-1672e1f3-1816-4074-b92d-ee42fef1c657');\n",
              "          const dataTable =\n",
              "            await google.colab.kernel.invokeFunction('convertToInteractive',\n",
              "                                                     [key], {});\n",
              "          if (!dataTable) return;\n",
              "\n",
              "          const docLinkHtml = 'Like what you see? Visit the ' +\n",
              "            '<a target=\"_blank\" href=https://colab.research.google.com/notebooks/data_table.ipynb>data table notebook</a>'\n",
              "            + ' to learn more about interactive tables.';\n",
              "          element.innerHTML = '';\n",
              "          dataTable['output_type'] = 'display_data';\n",
              "          await google.colab.output.renderOutput(dataTable, element);\n",
              "          const docLink = document.createElement('div');\n",
              "          docLink.innerHTML = docLinkHtml;\n",
              "          element.appendChild(docLink);\n",
              "        }\n",
              "      </script>\n",
              "    </div>\n",
              "  </div>\n",
              "  "
            ]
          },
          "metadata": {},
          "execution_count": 10
        }
      ],
      "source": [
        "df.head()"
      ],
      "id": "lNgAPXmbV8GK"
    },
    {
      "cell_type": "code",
      "execution_count": null,
      "metadata": {
        "colab": {
          "base_uri": "https://localhost:8080/"
        },
        "id": "Fogd8zdVWADJ",
        "outputId": "59c63b21-5a23-444b-9375-4ada7a06ac10"
      },
      "outputs": [
        {
          "output_type": "execute_result",
          "data": {
            "text/plain": [
              "(660, 5)"
            ]
          },
          "metadata": {},
          "execution_count": 11
        }
      ],
      "source": [
        "# Melihat jumlah baris dan kolom\n",
        "df.shape"
      ],
      "id": "Fogd8zdVWADJ"
    },
    {
      "cell_type": "code",
      "execution_count": null,
      "metadata": {
        "colab": {
          "base_uri": "https://localhost:8080/",
          "height": 300
        },
        "id": "t7M3jsi9V8It",
        "outputId": "2c93eeac-d5ba-4f43-d49d-c1de1bf95251"
      },
      "outputs": [
        {
          "output_type": "execute_result",
          "data": {
            "text/plain": [
              "       fuel_consumption  emission_factor   distanced   emissions\n",
              "count        660.000000       660.000000  660.000000  660.000000\n",
              "mean          21.539394         5.334485   51.024242    9.591435\n",
              "std            8.347260         3.575825   27.325932    6.134627\n",
              "min           11.500000         1.320000    5.000000    1.091100\n",
              "25%           11.500000         1.320000   28.000000    4.527875\n",
              "50%           16.000000         2.560000   50.000000    7.850700\n",
              "75%           30.000000         9.000000   75.000000   14.085000\n",
              "max           30.000000         9.000000  100.000000   23.400000"
            ],
            "text/html": [
              "\n",
              "  <div id=\"df-be7ff8ea-339f-4649-9901-1557719b862f\">\n",
              "    <div class=\"colab-df-container\">\n",
              "      <div>\n",
              "<style scoped>\n",
              "    .dataframe tbody tr th:only-of-type {\n",
              "        vertical-align: middle;\n",
              "    }\n",
              "\n",
              "    .dataframe tbody tr th {\n",
              "        vertical-align: top;\n",
              "    }\n",
              "\n",
              "    .dataframe thead th {\n",
              "        text-align: right;\n",
              "    }\n",
              "</style>\n",
              "<table border=\"1\" class=\"dataframe\">\n",
              "  <thead>\n",
              "    <tr style=\"text-align: right;\">\n",
              "      <th></th>\n",
              "      <th>fuel_consumption</th>\n",
              "      <th>emission_factor</th>\n",
              "      <th>distanced</th>\n",
              "      <th>emissions</th>\n",
              "    </tr>\n",
              "  </thead>\n",
              "  <tbody>\n",
              "    <tr>\n",
              "      <th>count</th>\n",
              "      <td>660.000000</td>\n",
              "      <td>660.000000</td>\n",
              "      <td>660.000000</td>\n",
              "      <td>660.000000</td>\n",
              "    </tr>\n",
              "    <tr>\n",
              "      <th>mean</th>\n",
              "      <td>21.539394</td>\n",
              "      <td>5.334485</td>\n",
              "      <td>51.024242</td>\n",
              "      <td>9.591435</td>\n",
              "    </tr>\n",
              "    <tr>\n",
              "      <th>std</th>\n",
              "      <td>8.347260</td>\n",
              "      <td>3.575825</td>\n",
              "      <td>27.325932</td>\n",
              "      <td>6.134627</td>\n",
              "    </tr>\n",
              "    <tr>\n",
              "      <th>min</th>\n",
              "      <td>11.500000</td>\n",
              "      <td>1.320000</td>\n",
              "      <td>5.000000</td>\n",
              "      <td>1.091100</td>\n",
              "    </tr>\n",
              "    <tr>\n",
              "      <th>25%</th>\n",
              "      <td>11.500000</td>\n",
              "      <td>1.320000</td>\n",
              "      <td>28.000000</td>\n",
              "      <td>4.527875</td>\n",
              "    </tr>\n",
              "    <tr>\n",
              "      <th>50%</th>\n",
              "      <td>16.000000</td>\n",
              "      <td>2.560000</td>\n",
              "      <td>50.000000</td>\n",
              "      <td>7.850700</td>\n",
              "    </tr>\n",
              "    <tr>\n",
              "      <th>75%</th>\n",
              "      <td>30.000000</td>\n",
              "      <td>9.000000</td>\n",
              "      <td>75.000000</td>\n",
              "      <td>14.085000</td>\n",
              "    </tr>\n",
              "    <tr>\n",
              "      <th>max</th>\n",
              "      <td>30.000000</td>\n",
              "      <td>9.000000</td>\n",
              "      <td>100.000000</td>\n",
              "      <td>23.400000</td>\n",
              "    </tr>\n",
              "  </tbody>\n",
              "</table>\n",
              "</div>\n",
              "      <button class=\"colab-df-convert\" onclick=\"convertToInteractive('df-be7ff8ea-339f-4649-9901-1557719b862f')\"\n",
              "              title=\"Convert this dataframe to an interactive table.\"\n",
              "              style=\"display:none;\">\n",
              "        \n",
              "  <svg xmlns=\"http://www.w3.org/2000/svg\" height=\"24px\"viewBox=\"0 0 24 24\"\n",
              "       width=\"24px\">\n",
              "    <path d=\"M0 0h24v24H0V0z\" fill=\"none\"/>\n",
              "    <path d=\"M18.56 5.44l.94 2.06.94-2.06 2.06-.94-2.06-.94-.94-2.06-.94 2.06-2.06.94zm-11 1L8.5 8.5l.94-2.06 2.06-.94-2.06-.94L8.5 2.5l-.94 2.06-2.06.94zm10 10l.94 2.06.94-2.06 2.06-.94-2.06-.94-.94-2.06-.94 2.06-2.06.94z\"/><path d=\"M17.41 7.96l-1.37-1.37c-.4-.4-.92-.59-1.43-.59-.52 0-1.04.2-1.43.59L10.3 9.45l-7.72 7.72c-.78.78-.78 2.05 0 2.83L4 21.41c.39.39.9.59 1.41.59.51 0 1.02-.2 1.41-.59l7.78-7.78 2.81-2.81c.8-.78.8-2.07 0-2.86zM5.41 20L4 18.59l7.72-7.72 1.47 1.35L5.41 20z\"/>\n",
              "  </svg>\n",
              "      </button>\n",
              "      \n",
              "  <style>\n",
              "    .colab-df-container {\n",
              "      display:flex;\n",
              "      flex-wrap:wrap;\n",
              "      gap: 12px;\n",
              "    }\n",
              "\n",
              "    .colab-df-convert {\n",
              "      background-color: #E8F0FE;\n",
              "      border: none;\n",
              "      border-radius: 50%;\n",
              "      cursor: pointer;\n",
              "      display: none;\n",
              "      fill: #1967D2;\n",
              "      height: 32px;\n",
              "      padding: 0 0 0 0;\n",
              "      width: 32px;\n",
              "    }\n",
              "\n",
              "    .colab-df-convert:hover {\n",
              "      background-color: #E2EBFA;\n",
              "      box-shadow: 0px 1px 2px rgba(60, 64, 67, 0.3), 0px 1px 3px 1px rgba(60, 64, 67, 0.15);\n",
              "      fill: #174EA6;\n",
              "    }\n",
              "\n",
              "    [theme=dark] .colab-df-convert {\n",
              "      background-color: #3B4455;\n",
              "      fill: #D2E3FC;\n",
              "    }\n",
              "\n",
              "    [theme=dark] .colab-df-convert:hover {\n",
              "      background-color: #434B5C;\n",
              "      box-shadow: 0px 1px 3px 1px rgba(0, 0, 0, 0.15);\n",
              "      filter: drop-shadow(0px 1px 2px rgba(0, 0, 0, 0.3));\n",
              "      fill: #FFFFFF;\n",
              "    }\n",
              "  </style>\n",
              "\n",
              "      <script>\n",
              "        const buttonEl =\n",
              "          document.querySelector('#df-be7ff8ea-339f-4649-9901-1557719b862f button.colab-df-convert');\n",
              "        buttonEl.style.display =\n",
              "          google.colab.kernel.accessAllowed ? 'block' : 'none';\n",
              "\n",
              "        async function convertToInteractive(key) {\n",
              "          const element = document.querySelector('#df-be7ff8ea-339f-4649-9901-1557719b862f');\n",
              "          const dataTable =\n",
              "            await google.colab.kernel.invokeFunction('convertToInteractive',\n",
              "                                                     [key], {});\n",
              "          if (!dataTable) return;\n",
              "\n",
              "          const docLinkHtml = 'Like what you see? Visit the ' +\n",
              "            '<a target=\"_blank\" href=https://colab.research.google.com/notebooks/data_table.ipynb>data table notebook</a>'\n",
              "            + ' to learn more about interactive tables.';\n",
              "          element.innerHTML = '';\n",
              "          dataTable['output_type'] = 'display_data';\n",
              "          await google.colab.output.renderOutput(dataTable, element);\n",
              "          const docLink = document.createElement('div');\n",
              "          docLink.innerHTML = docLinkHtml;\n",
              "          element.appendChild(docLink);\n",
              "        }\n",
              "      </script>\n",
              "    </div>\n",
              "  </div>\n",
              "  "
            ]
          },
          "metadata": {},
          "execution_count": 12
        }
      ],
      "source": [
        "# Melihat info statistik data\n",
        "df.describe()"
      ],
      "id": "t7M3jsi9V8It"
    },
    {
      "cell_type": "code",
      "execution_count": null,
      "metadata": {
        "colab": {
          "base_uri": "https://localhost:8080/"
        },
        "id": "8dd4387e-222b-4324-8c7e-50928af70300",
        "outputId": "20359731-e6fe-4321-adee-d75719903773"
      },
      "outputs": [
        {
          "output_type": "stream",
          "name": "stdout",
          "text": [
            "bus_class            object\n",
            "fuel_consumption    float64\n",
            "emission_factor     float64\n",
            "distanced             int64\n",
            "emissions           float64\n",
            "dtype: object\n"
          ]
        }
      ],
      "source": [
        "# Melihat tipe data\n",
        "print(df.dtypes)"
      ],
      "id": "8dd4387e-222b-4324-8c7e-50928af70300"
    },
    {
      "cell_type": "code",
      "execution_count": null,
      "metadata": {
        "colab": {
          "base_uri": "https://localhost:8080/"
        },
        "id": "ef91ebcc-8cd8-40e1-93f4-77ba533a90b3",
        "outputId": "ef1520d1-f223-4854-8375-c12c000273bc"
      },
      "outputs": [
        {
          "output_type": "execute_result",
          "data": {
            "text/plain": [
              "bus_class           0\n",
              "fuel_consumption    0\n",
              "emission_factor     0\n",
              "distanced           0\n",
              "emissions           0\n",
              "dtype: int64"
            ]
          },
          "metadata": {},
          "execution_count": 14
        }
      ],
      "source": [
        "# melihat missing values\n",
        "df[df==0].count()"
      ],
      "id": "ef91ebcc-8cd8-40e1-93f4-77ba533a90b3"
    },
    {
      "cell_type": "code",
      "execution_count": null,
      "metadata": {
        "colab": {
          "base_uri": "https://localhost:8080/",
          "height": 607
        },
        "id": "2ef23442-747d-4c62-8319-fa8deac55ccb",
        "outputId": "eb8d5092-2124-4470-ac4a-39374c7e5c05"
      },
      "outputs": [
        {
          "output_type": "display_data",
          "data": {
            "text/plain": [
              "<Figure size 800x600 with 2 Axes>"
            ],
            "image/png": "[encoded data removed]"
          },
          "metadata": {}
        }
      ],
      "source": [
        "bus_emissions_columns = {\n",
        "    'Bus': ['fuel_consumption',\t'emission_factor',\t'distanced', 'emissions'],\n",
        "}\n",
        "\n",
        "# Membuat subplots untuk masing-masing bis\n",
        "fig, axes = plt.subplots(1, 1, figsize=(8, 6))\n",
        "\n",
        "# Meloopi setiap bis\n",
        "for bus, columns in bus_emissions_columns.items():\n",
        "    # Subset kolom untuk bis tertentu\n",
        "    subset = df[columns].corr()\n",
        "\n",
        "    # Heatmap untuk bis tertentu\n",
        "    sns.heatmap(subset, annot=True, ax=axes)\n",
        "    axes.set_title(f'Korelasi {bus.capitalize()}')\n",
        "\n",
        "# Menampilkan plot\n",
        "plt.tight_layout()\n",
        "plt.show()"
      ],
      "id": "2ef23442-747d-4c62-8319-fa8deac55ccb"
    },
    {
      "cell_type": "code",
      "execution_count": null,
      "metadata": {
        "id": "6OqBYRSU3gbQ"
      },
      "outputs": [],
      "source": [
        "# Mengambil kolom numerik untuk perhitungan Z-score\n",
        "numeric_columns = ['fuel_consumption',\t'emission_factor',\t'distanced', 'emissions']"
      ],
      "id": "6OqBYRSU3gbQ"
    },
    {
      "cell_type": "markdown",
      "metadata": {
        "id": "ce90d76b-3196-4c00-a8ab-7cc8e1748fcf"
      },
      "source": [
        "### Feature Selection\n",
        "Akan dilakukan pemisahan fitur dan target untuk setiap kendaraan.\n",
        "Yang menjadi fitur adalah 'distanced', 'fuel_comsumption(L/100 Km)', dan 'emissions_factor', sedangkan untuk target kami adalah 'emissions'."
      ],
      "id": "ce90d76b-3196-4c00-a8ab-7cc8e1748fcf"
    },
    {
      "cell_type": "code",
      "execution_count": null,
      "metadata": {
        "id": "85f2b83c-8946-480e-8076-947103b3e5b3"
      },
      "outputs": [],
      "source": [
        "# Memisahkan fitur dan target untuk bis\n",
        "bus_features = df[['fuel_consumption',\t'emission_factor',\t'distanced']]\n",
        "bus_target = df['emissions']"
      ],
      "id": "85f2b83c-8946-480e-8076-947103b3e5b3"
    },
    {
      "cell_type": "markdown",
      "source": [
        "# Normalize the features"
      ],
      "metadata": {
        "id": "zNpuiHj2wcbH"
      },
      "id": "zNpuiHj2wcbH"
    },
    {
      "cell_type": "code",
      "source": [
        "# Menormalkan Fitur\n",
        "scaler = StandardScaler()\n",
        "bus_features_normalized = scaler.fit_transform(bus_features)"
      ],
      "metadata": {
        "id": "N4BRr8Vhwhc_"
      },
      "id": "N4BRr8Vhwhc_",
      "execution_count": null,
      "outputs": []
    },
    {
      "cell_type": "markdown",
      "metadata": {
        "id": "e736fd42-a3b4-444c-91f8-353d6def2b81"
      },
      "source": [
        "### Splitting Data\n",
        "Data yang digunakan untuk training sebanyak 80% dan testing sebanyak 20%"
      ],
      "id": "e736fd42-a3b4-444c-91f8-353d6def2b81"
    },
    {
      "cell_type": "code",
      "execution_count": null,
      "metadata": {
        "id": "1cfcd3e8-9cca-4cbd-b43d-f7ed2bedde33"
      },
      "outputs": [],
      "source": [
        "# Membagi data bis menjadi set pelatihan dan pengujian\n",
        "bus_X_train, bus_X_test, bus_y_train, bus_y_test = train_test_split(bus_features, bus_target, test_size=0.2, random_state=42)"
      ],
      "id": "1cfcd3e8-9cca-4cbd-b43d-f7ed2bedde33"
    },
    {
      "cell_type": "markdown",
      "metadata": {
        "id": "d1b80200-e348-4aff-926b-5bfaa4066987"
      },
      "source": [
        "### Modelling\n",
        "Melatih model dengan regresi linier untuk setiap bis"
      ],
      "id": "d1b80200-e348-4aff-926b-5bfaa4066987"
    },
    {
      "cell_type": "code",
      "execution_count": null,
      "metadata": {
        "id": "ad32436c-5311-408e-a90c-a2d60804ddfe"
      },
      "outputs": [],
      "source": [
        "# Melatih model regresi linier untuk bis\n",
        "bus_model = LinearRegression()\n",
        "bus_model.fit(bus_X_train, bus_y_train)\n",
        "\n",
        "# Melakukan prediksi emisi karbon dari konsumsi bis\n",
        "bus_y_pred = bus_model.predict(bus_X_test)\n",
        "\n",
        "# Menghitung evaluasi performa model untuk bis\n",
        "bus_mse = mean_squared_error(bus_y_test, bus_y_pred)\n",
        "bus_r2 = r2_score(bus_y_test, bus_y_pred)"
      ],
      "id": "ad32436c-5311-408e-a90c-a2d60804ddfe"
    },
    {
      "cell_type": "markdown",
      "metadata": {
        "id": "b67e8786-0882-433e-8c88-d34cd0b66559"
      },
      "source": [
        "Untuk evaluasi performa model ini menggunakan MSE dibanding MAE karen beberapa pertimbangan-pertimbangan berikut:\n",
        "1. Dalam perhitungan MSE, bobot yang diberikan pada kesalahan yang besar lebih tinggi karena selisih antara nilai prediksi dan nilai sebenarnya di kuadratkan. Hal ini memungkinkan pengidentifikasian dan penekanan pada outlier atau kesalahan prediksi yang signifikan dalam model. Saya mengutamakan identifikasi kesalahan prediksi yang penting dan membutuhkan perhatian lebih.\n",
        "2. Selain itu saya juga ingin mengukur kesalahan prediksi dalam skala yang sama dengan variabel target, yaitu emisi karbon. MSE memberikan hasil dalam satuan kuadrat (misalnya, kg CO2e^2), yang konsisten dengan skala variabel target. Sehingga saya ingin memastikan bahwa ukuran kesalahan yang saya gunakan sesuai dengan skala yang relevan.\n",
        "3. MSE memberikan penekanan lebih pada kesalahan yang lebih besar karena mengkuadratkan selisih antara prediksi dan nilai sebenarnya. Sebagai seorang data scientist, saya ingin memastikan bahwa kesalahan prediksi yang signifikan memiliki dampak yang lebih besar pada penilaian performa model."
      ],
      "id": "b67e8786-0882-433e-8c88-d34cd0b66559"
    },
    {
      "cell_type": "code",
      "execution_count": null,
      "metadata": {
        "colab": {
          "base_uri": "https://localhost:8080/",
          "height": 472
        },
        "id": "580b4c1e-5a16-49e6-931c-f0807484de4b",
        "outputId": "34f8b14a-4905-446b-faf3-bfe795aab448"
      },
      "outputs": [
        {
          "output_type": "display_data",
          "data": {
            "text/plain": [
              "<Figure size 640x480 with 1 Axes>"
            ],
            "image/png": "[encoded data removed]"
          },
          "metadata": {}
        }
      ],
      "source": [
        "import numpy as np\n",
        "import matplotlib.pyplot as plt\n",
        "\n",
        "# Visualisasi dan garis regresi untuk bis\n",
        "plt.scatter(bus_y_test, bus_y_pred, color='blue', alpha=0.5)\n",
        "plt.plot(np.unique(bus_y_test), np.poly1d(np.polyfit(bus_y_test, bus_y_pred, 1))(np.unique(bus_y_test)), color='red')\n",
        "plt.xlabel('Nilai Sebenarnya')\n",
        "plt.ylabel('Prediksi')\n",
        "plt.title('Prediksi Emisi Karbon - Bus')\n",
        "plt.show()\n"
      ],
      "id": "580b4c1e-5a16-49e6-931c-f0807484de4b"
    },
    {
      "cell_type": "code",
      "execution_count": null,
      "metadata": {
        "colab": {
          "base_uri": "https://localhost:8080/"
        },
        "id": "2007ac5d-505e-43f4-9162-5ea2cd48fd4e",
        "outputId": "607f9b10-01bb-4151-a43c-95d326b102d2"
      },
      "outputs": [
        {
          "output_type": "stream",
          "name": "stdout",
          "text": [
            "Hasil evaluasi performa model untuk bus:\n",
            "MSE: 2.149309302184698\n",
            "R-squared: 0.949608785663476\n"
          ]
        }
      ],
      "source": [
        "# Menampilkan hasil evaluasi performa model\n",
        "print(\"Hasil evaluasi performa model untuk bus:\")\n",
        "print(\"MSE:\", bus_mse)\n",
        "print(\"R-squared:\", bus_r2)"
      ],
      "id": "2007ac5d-505e-43f4-9162-5ea2cd48fd4e"
    },
    {
      "cell_type": "markdown",
      "metadata": {
        "id": "3cda82ef-df3f-4437-b0ab-5b67e1675267"
      },
      "source": [
        "# Interpretasi\n",
        "\n",
        "**Evaluasi performa model untuk mobil:**\n",
        "- MSE (Mean Squared Error): 2.149309302184698\n",
        "- R-squared: 0.949608785663476\n",
        "- Evaluasi performa model untuk mobil menunjukkan hasil yang baik. Nilai MSE yang rendah dan nilai R-squared yang cukup tinggi menunjukkan bahwa model regresi linear untuk mobil memiliki tingkat kesalahan yang relatif kecil dan mampu menjelaskan sekitar 94.96% variasi dalam emisi karbon mobil."
      ],
      "id": "3cda82ef-df3f-4437-b0ab-5b67e1675267"
    },
    {
      "cell_type": "markdown",
      "metadata": {
        "id": "dI5ZlRCrhipQ"
      },
      "source": [
        "# Membuat model Deep Learning.\n",
        "- model neural network dengan 3 layer untuk memprediksi emisi karbon dari konsumsi masing-masing kendaraan.\n",
        "- menggunakan fungsi aktivasi relu pada layer pertama dan kedua, dan tidak menggunakan fungsi aktivasi pada layer output karena masalah regresi.\n",
        "- Data diskalakan agar model dapat lebih efisien (menggunakan StandardScaler dari scikit-learn )"
      ],
      "id": "dI5ZlRCrhipQ"
    },
    {
      "cell_type": "code",
      "source": [
        "# Standarisasi fitur dengan StandardScaler\n",
        "scaler = StandardScaler()\n",
        "bus_X_train_scaled = scaler.fit_transform(bus_X_train)\n",
        "bus_X_test_scaled = scaler.transform(bus_X_test)\n",
        "\n",
        "# Create the model\n",
        "bus_model_tf = Sequential()\n",
        "bus_model_tf.add(Dense(256, input_dim=bus_X_train_scaled.shape[1], activation='relu'))\n",
        "bus_model_tf.add(Dense(64, activation='relu'))\n",
        "bus_model_tf.add(Dense(1))\n",
        "\n",
        "# Compile the model\n",
        "bus_model_tf.compile(loss='mean_squared_error', optimizer='adam')\n",
        "\n",
        "\n",
        "bus_model_tf.fit(bus_X_train_scaled, bus_y_train, epochs=20, batch_size=64, validation_split=0.2)\n",
        "\n",
        "# Reshape the input data to have shape (None, 3)\n",
        "bus_X_test_scaled_reshaped = bus_X_test_scaled.reshape(-1, 3)\n",
        "\n",
        "# Predict the output for new data\n",
        "bus_y_pred_tf = bus_model_tf.predict(bus_X_test_scaled_reshaped)\n",
        "\n",
        "# Evaluate the model\n",
        "bus_mse_tf = mean_squared_error(bus_y_test, bus_y_pred_tf)\n",
        "bus_rmse_tf = np.sqrt(bus_mse_tf)\n",
        "bus_r2_tf = r2_score(bus_y_test, bus_y_pred_tf)\n",
        "\n",
        "print(\"Hasil evaluasi performa model TensorFlow untuk Bus:\")\n",
        "print(\"MSE:\", bus_mse_tf)\n",
        "print(\"RMSE:\", bus_rmse_tf)\n",
        "print(\"R-squared:\", bus_r2_tf)"
      ],
      "metadata": {
        "colab": {
          "base_uri": "https://localhost:8080/"
        },
        "id": "-gL3j9buzqzN",
        "outputId": "b284df14-0dae-4da1-b3d1-687f473ed544"
      },
      "id": "-gL3j9buzqzN",
      "execution_count": null,
      "outputs": [
        {
          "output_type": "stream",
          "name": "stdout",
          "text": [
            "Epoch 1/20\n",
            "7/7 [==============================] - 1s 41ms/step - loss: 115.9984 - val_loss: 125.6507\n",
            "Epoch 2/20\n",
            "7/7 [==============================] - 0s 15ms/step - loss: 103.1100 - val_loss: 111.2312\n",
            "Epoch 3/20\n",
            "7/7 [==============================] - 0s 12ms/step - loss: 89.4574 - val_loss: 93.5597\n",
            "Epoch 4/20\n",
            "7/7 [==============================] - 0s 11ms/step - loss: 72.4821 - val_loss: 72.8195\n",
            "Epoch 5/20\n",
            "7/7 [==============================] - 0s 16ms/step - loss: 54.2387 - val_loss: 50.2879\n",
            "Epoch 6/20\n",
            "7/7 [==============================] - 0s 15ms/step - loss: 35.7426 - val_loss: 28.8524\n",
            "Epoch 7/20\n",
            "7/7 [==============================] - 0s 11ms/step - loss: 18.6456 - val_loss: 12.5365\n",
            "Epoch 8/20\n",
            "7/7 [==============================] - 0s 10ms/step - loss: 7.5358 - val_loss: 4.1761\n",
            "Epoch 9/20\n",
            "7/7 [==============================] - 0s 11ms/step - loss: 3.5731 - val_loss: 2.7176\n",
            "Epoch 10/20\n",
            "7/7 [==============================] - 0s 7ms/step - loss: 2.9779 - val_loss: 2.2655\n",
            "Epoch 11/20\n",
            "7/7 [==============================] - 0s 9ms/step - loss: 2.2063 - val_loss: 1.3728\n",
            "Epoch 12/20\n",
            "7/7 [==============================] - 0s 7ms/step - loss: 1.4725 - val_loss: 1.0911\n",
            "Epoch 13/20\n",
            "7/7 [==============================] - 0s 8ms/step - loss: 1.3108 - val_loss: 1.0870\n",
            "Epoch 14/20\n",
            "7/7 [==============================] - 0s 8ms/step - loss: 1.2769 - val_loss: 1.0063\n",
            "Epoch 15/20\n",
            "7/7 [==============================] - 0s 8ms/step - loss: 1.1825 - val_loss: 0.9152\n",
            "Epoch 16/20\n",
            "7/7 [==============================] - 0s 7ms/step - loss: 1.1040 - val_loss: 0.8706\n",
            "Epoch 17/20\n",
            "7/7 [==============================] - 0s 7ms/step - loss: 1.0566 - val_loss: 0.8389\n",
            "Epoch 18/20\n",
            "7/7 [==============================] - 0s 7ms/step - loss: 1.0156 - val_loss: 0.8124\n",
            "Epoch 19/20\n",
            "7/7 [==============================] - 0s 7ms/step - loss: 0.9788 - val_loss: 0.7889\n",
            "Epoch 20/20\n",
            "7/7 [==============================] - 0s 7ms/step - loss: 0.9486 - val_loss: 0.7595\n",
            "Hasil evaluasi performa model TensorFlow untuk Bus:\n",
            "MSE: 0.6324232593623645\n",
            "RMSE: 0.795250438140316\n",
            "R-squared: 0.9851726431456195\n"
          ]
        }
      ]
    },
    {
      "cell_type": "markdown",
      "source": [
        "**SAVE MODEL**\n",
        "### kita akan save model dalam bentuk h5 dan sebagai alternatif akan dikonversi kedalam bentuk tflite."
      ],
      "metadata": {
        "id": "WlAKyAmxrrm8"
      },
      "id": "WlAKyAmxrrm8"
    },
    {
      "cell_type": "code",
      "source": [
        "from google.colab import drive\n",
        "drive.mount('/content/gdrive', force_remount=True)"
      ],
      "metadata": {
        "colab": {
          "base_uri": "https://localhost:8080/"
        },
        "id": "XauH65AsLrAh",
        "outputId": "3714a6ec-5190-4008-9e6b-fb365ffc9a1c"
      },
      "id": "XauH65AsLrAh",
      "execution_count": null,
      "outputs": [
        {
          "output_type": "stream",
          "name": "stdout",
          "text": [
            "Mounted at /content/gdrive\n"
          ]
        }
      ]
    },
    {
      "cell_type": "code",
      "source": [
        "bus_model_tf.save('/content/gdrive/MyDrive/Vehicle_Greenix/Model/bus_model.h5')"
      ],
      "metadata": {
        "id": "04YmkV4mJeTx"
      },
      "id": "04YmkV4mJeTx",
      "execution_count": null,
      "outputs": []
    },
    {
      "cell_type": "code",
      "source": [
        "import tensorflow as tf\n",
        "from tensorflow.keras.models import load_model\n",
        "\n",
        "# Load the saved model.\n",
        "model = load_model('/content/gdrive/MyDrive/Vehicle_Greenix/Model/bus_model.h5')\n",
        "\n",
        "# Convert the model to TFLite.\n",
        "converter = tf.lite.TFLiteConverter.from_keras_model(model)\n",
        "tflite_model = converter.convert()\n",
        "\n",
        "# Save the TFLite model.\n",
        "with open('bus_model.tflite', 'wb') as f:\n",
        "    f.write(tflite_model)\n",
        "\n",
        "bus_model_tf.save('/content/gdrive/MyDrive/Vehicle_Greenix/Model/bus_model.tflite')"
      ],
      "metadata": {
        "id": "vgrQg0wfaWkx"
      },
      "id": "vgrQg0wfaWkx",
      "execution_count": null,
      "outputs": []
    },
    {
      "cell_type": "code",
      "source": [
        "from tensorflow.keras.models import load_model\n",
        "\n",
        "# Load model\n",
        "bus_model = load_model('/content/gdrive/MyDrive/Vehicle_Greenix/Model/bus_model.h5')"
      ],
      "metadata": {
        "id": "nXurBxPUT9YJ"
      },
      "id": "nXurBxPUT9YJ",
      "execution_count": null,
      "outputs": []
    },
    {
      "cell_type": "markdown",
      "source": [
        "Make Prediction New Data With Our Model\n"
      ],
      "metadata": {
        "id": "qwahuB1xsMMr"
      },
      "id": "qwahuB1xsMMr"
    },
    {
      "cell_type": "code",
      "execution_count": null,
      "metadata": {
        "id": "ngMyLnKKgSRH",
        "colab": {
          "base_uri": "https://localhost:8080/"
        },
        "outputId": "a03bd516-55a8-4c9d-9a46-1009690c8581"
      },
      "outputs": [
        {
          "output_type": "stream",
          "name": "stdout",
          "text": [
            "Prediksi Emisi Bus adalah: [611.8526]\n"
          ]
        }
      ],
      "source": [
        "import tensorflow as tf\n",
        "import numpy as np\n",
        "\n",
        "# Load the model\n",
        "model = tf.keras.models.load_model('/content/gdrive/MyDrive/Vehicle_Greenix/Model/bus_model.h5')\n",
        "\n",
        "# Define the new data\n",
        "distance = 100\n",
        "fuel_consumption = 5\n",
        "placeholder_value = 0\n",
        "\n",
        "# Scale the new data\n",
        "new_data = np.array([[distance, fuel_consumption, placeholder_value]])\n",
        "\n",
        "# Make a prediction\n",
        "prediction = model.predict(new_data)\n",
        "\n",
        "# Print the prediction\n",
        "print(\"Prediksi Emisi Bus adalah:\", prediction[0])"
      ],
      "id": "ngMyLnKKgSRH"
    }
  ],
  "metadata": {
    "colab": {
      "provenance": [],
      "include_colab_link": true
    },
    "kernelspec": {
      "display_name": "Python 3 (ipykernel)",
      "language": "python",
      "name": "python3"
    },
    "language_info": {
      "codemirror_mode": {
        "name": "ipython",
        "version": 3
      },
      "file_extension": ".py",
      "mimetype": "text/x-python",
      "name": "python",
      "nbconvert_exporter": "python",
      "pygments_lexer": "ipython3",
      "version": "3.9.7"
    }
  },
  "nbformat": 4,
  "nbformat_minor": 5
}