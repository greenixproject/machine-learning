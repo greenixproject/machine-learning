{
  "cells": [
    {
      "cell_type": "markdown",
      "metadata": {
        "id": "view-in-github",
        "colab_type": "text"
      },
      "source": [
        "<a href=\"https://colab.research.google.com/github/greenixproject/machine-learning/blob/main/Vehicle_Greenix/vehicle_emission_car.ipynb\" target=\"_parent\"><img src=\"https://colab.research.google.com/assets/colab-badge.svg\" alt=\"Open In Colab\"/></a>"
      ]
    },
    {
      "cell_type": "markdown",
      "metadata": {
        "id": "eb59f57a-145c-4291-9810-7991d64a2693"
      },
      "source": [
        "1. Emisi karbon banyak terutama dari aktivitas sehari-hari salah satunya adalah dari konsumsi makanan\n",
        "2. Awareness masyarakat masih kurang tentang karbon yang dapat dihasilkan\n",
        "3. Dari permasalahan tersebut, pada project kali ini kami akan membuat prediksi emisi karbon yang dihasilkan dari konsumsi makanan\n",
        "4. Data yang kami gunakan diambil dan dikumpulkan dari survei kepada responden, jurnal dan website lainnya"
      ],
      "id": "eb59f57a-145c-4291-9810-7991d64a2693"
    },
    {
      "cell_type": "code",
      "execution_count": null,
      "metadata": {
        "colab": {
          "base_uri": "https://localhost:8080/"
        },
        "id": "14727ac1-1e7d-4eac-a06c-3fd181e00dbb",
        "outputId": "f88bf92c-8730-47ca-84e2-4655b6d28dd4"
      },
      "outputs": [
        {
          "output_type": "stream",
          "name": "stdout",
          "text": [
            "Looking in indexes: https://pypi.org/simple, https://us-python.pkg.dev/colab-wheels/public/simple/\n",
            "Requirement already satisfied: tensorflow==2.8.0 in /usr/local/lib/python3.10/dist-packages (2.8.0)\n",
            "Requirement already satisfied: absl-py>=0.4.0 in /usr/local/lib/python3.10/dist-packages (from tensorflow==2.8.0) (1.4.0)\n",
            "Requirement already satisfied: astunparse>=1.6.0 in /usr/local/lib/python3.10/dist-packages (from tensorflow==2.8.0) (1.6.3)\n",
            "Requirement already satisfied: flatbuffers>=1.12 in /usr/local/lib/python3.10/dist-packages (from tensorflow==2.8.0) (23.3.3)\n",
            "Requirement already satisfied: gast>=0.2.1 in /usr/local/lib/python3.10/dist-packages (from tensorflow==2.8.0) (0.4.0)\n",
            "Requirement already satisfied: google-pasta>=0.1.1 in /usr/local/lib/python3.10/dist-packages (from tensorflow==2.8.0) (0.2.0)\n",
            "Requirement already satisfied: h5py>=2.9.0 in /usr/local/lib/python3.10/dist-packages (from tensorflow==2.8.0) (3.8.0)\n",
            "Requirement already satisfied: keras-preprocessing>=1.1.1 in /usr/local/lib/python3.10/dist-packages (from tensorflow==2.8.0) (1.1.2)\n",
            "Requirement already satisfied: libclang>=9.0.1 in /usr/local/lib/python3.10/dist-packages (from tensorflow==2.8.0) (16.0.0)\n",
            "Requirement already satisfied: numpy>=1.20 in /usr/local/lib/python3.10/dist-packages (from tensorflow==2.8.0) (1.22.4)\n",
            "Requirement already satisfied: opt-einsum>=2.3.2 in /usr/local/lib/python3.10/dist-packages (from tensorflow==2.8.0) (3.3.0)\n",
            "Requirement already satisfied: protobuf>=3.9.2 in /usr/local/lib/python3.10/dist-packages (from tensorflow==2.8.0) (3.20.3)\n",
            "Requirement already satisfied: setuptools in /usr/local/lib/python3.10/dist-packages (from tensorflow==2.8.0) (67.7.2)\n",
            "Requirement already satisfied: six>=1.12.0 in /usr/local/lib/python3.10/dist-packages (from tensorflow==2.8.0) (1.16.0)\n",
            "Requirement already satisfied: termcolor>=1.1.0 in /usr/local/lib/python3.10/dist-packages (from tensorflow==2.8.0) (2.3.0)\n",
            "Requirement already satisfied: typing-extensions>=3.6.6 in /usr/local/lib/python3.10/dist-packages (from tensorflow==2.8.0) (4.5.0)\n",
            "Requirement already satisfied: wrapt>=1.11.0 in /usr/local/lib/python3.10/dist-packages (from tensorflow==2.8.0) (1.14.1)\n",
            "Requirement already satisfied: tensorboard<2.9,>=2.8 in /usr/local/lib/python3.10/dist-packages (from tensorflow==2.8.0) (2.8.0)\n",
            "Requirement already satisfied: tf-estimator-nightly==2.8.0.dev2021122109 in /usr/local/lib/python3.10/dist-packages (from tensorflow==2.8.0) (2.8.0.dev2021122109)\n",
            "Requirement already satisfied: keras<2.9,>=2.8.0rc0 in /usr/local/lib/python3.10/dist-packages (from tensorflow==2.8.0) (2.8.0)\n",
            "Requirement already satisfied: tensorflow-io-gcs-filesystem>=0.23.1 in /usr/local/lib/python3.10/dist-packages (from tensorflow==2.8.0) (0.32.0)\n",
            "Requirement already satisfied: grpcio<2.0,>=1.24.3 in /usr/local/lib/python3.10/dist-packages (from tensorflow==2.8.0) (1.54.0)\n",
            "Requirement already satisfied: wheel<1.0,>=0.23.0 in /usr/local/lib/python3.10/dist-packages (from astunparse>=1.6.0->tensorflow==2.8.0) (0.40.0)\n",
            "Requirement already satisfied: google-auth<3,>=1.6.3 in /usr/local/lib/python3.10/dist-packages (from tensorboard<2.9,>=2.8->tensorflow==2.8.0) (2.17.3)\n",
            "Requirement already satisfied: google-auth-oauthlib<0.5,>=0.4.1 in /usr/local/lib/python3.10/dist-packages (from tensorboard<2.9,>=2.8->tensorflow==2.8.0) (0.4.6)\n",
            "Requirement already satisfied: markdown>=2.6.8 in /usr/local/lib/python3.10/dist-packages (from tensorboard<2.9,>=2.8->tensorflow==2.8.0) (3.4.3)\n",
            "Requirement already satisfied: requests<3,>=2.21.0 in /usr/local/lib/python3.10/dist-packages (from tensorboard<2.9,>=2.8->tensorflow==2.8.0) (2.27.1)\n",
            "Requirement already satisfied: tensorboard-data-server<0.7.0,>=0.6.0 in /usr/local/lib/python3.10/dist-packages (from tensorboard<2.9,>=2.8->tensorflow==2.8.0) (0.6.1)\n",
            "Requirement already satisfied: tensorboard-plugin-wit>=1.6.0 in /usr/local/lib/python3.10/dist-packages (from tensorboard<2.9,>=2.8->tensorflow==2.8.0) (1.8.1)\n",
            "Requirement already satisfied: werkzeug>=0.11.15 in /usr/local/lib/python3.10/dist-packages (from tensorboard<2.9,>=2.8->tensorflow==2.8.0) (2.3.0)\n",
            "Requirement already satisfied: cachetools<6.0,>=2.0.0 in /usr/local/lib/python3.10/dist-packages (from google-auth<3,>=1.6.3->tensorboard<2.9,>=2.8->tensorflow==2.8.0) (5.3.0)\n",
            "Requirement already satisfied: pyasn1-modules>=0.2.1 in /usr/local/lib/python3.10/dist-packages (from google-auth<3,>=1.6.3->tensorboard<2.9,>=2.8->tensorflow==2.8.0) (0.3.0)\n",
            "Requirement already satisfied: rsa<5,>=3.1.4 in /usr/local/lib/python3.10/dist-packages (from google-auth<3,>=1.6.3->tensorboard<2.9,>=2.8->tensorflow==2.8.0) (4.9)\n",
            "Requirement already satisfied: requests-oauthlib>=0.7.0 in /usr/local/lib/python3.10/dist-packages (from google-auth-oauthlib<0.5,>=0.4.1->tensorboard<2.9,>=2.8->tensorflow==2.8.0) (1.3.1)\n",
            "Requirement already satisfied: urllib3<1.27,>=1.21.1 in /usr/local/lib/python3.10/dist-packages (from requests<3,>=2.21.0->tensorboard<2.9,>=2.8->tensorflow==2.8.0) (1.26.15)\n",
            "Requirement already satisfied: certifi>=2017.4.17 in /usr/local/lib/python3.10/dist-packages (from requests<3,>=2.21.0->tensorboard<2.9,>=2.8->tensorflow==2.8.0) (2022.12.7)\n",
            "Requirement already satisfied: charset-normalizer~=2.0.0 in /usr/local/lib/python3.10/dist-packages (from requests<3,>=2.21.0->tensorboard<2.9,>=2.8->tensorflow==2.8.0) (2.0.12)\n",
            "Requirement already satisfied: idna<4,>=2.5 in /usr/local/lib/python3.10/dist-packages (from requests<3,>=2.21.0->tensorboard<2.9,>=2.8->tensorflow==2.8.0) (3.4)\n",
            "Requirement already satisfied: MarkupSafe>=2.1.1 in /usr/local/lib/python3.10/dist-packages (from werkzeug>=0.11.15->tensorboard<2.9,>=2.8->tensorflow==2.8.0) (2.1.2)\n",
            "Requirement already satisfied: pyasn1<0.6.0,>=0.4.6 in /usr/local/lib/python3.10/dist-packages (from pyasn1-modules>=0.2.1->google-auth<3,>=1.6.3->tensorboard<2.9,>=2.8->tensorflow==2.8.0) (0.5.0)\n",
            "Requirement already satisfied: oauthlib>=3.0.0 in /usr/local/lib/python3.10/dist-packages (from requests-oauthlib>=0.7.0->google-auth-oauthlib<0.5,>=0.4.1->tensorboard<2.9,>=2.8->tensorflow==2.8.0) (3.2.2)\n"
          ]
        }
      ],
      "source": [
        "!pip install tensorflow==2.8.0"
      ],
      "id": "14727ac1-1e7d-4eac-a06c-3fd181e00dbb"
    },
    {
      "cell_type": "markdown",
      "metadata": {
        "id": "ZImOZswUVKP9"
      },
      "source": [
        "Keterangan kolom:\n",
        "- nomer: nomer urut responden\n",
        "- nama: nama responden\n",
        "- email: email responden\n",
        "- tfep_kgco2e: total emisi dari seluruh makanan meliputi jagung, beras, singkong, kacangan-kacangan, daging unggas, minyak kelapa sawit \n",
        "- num_people_jagung: jumlah orang yang ikut makan jagung\n",
        "- consumption_jagung: jumlah konsumsi jagung (kg)\n",
        "- factor_jagung: nilai emisi dari jagung (kgCO2e)\n",
        "- emission_jagung: total emisi per orang yang dihasilkan dari mengkonsumsi jagung (kg CO2e)\n",
        "- num_people_beras: jumlah orang yang ikut makan beras\n",
        "- consumption_beras: jumlah konsumsi beras (kg)\n",
        "- factor_beras: nilai emisi dari beras (kgCO2e)\n",
        "- emission_beras: total emisi per orang yang dihasilkan dari mengkonsumsi beras (kg CO2e)\n",
        "- num_people_singkong: jumlah orang yang ikut makan singkong\n",
        "- consumption_singkong: jumlah konsumsi singkong (kg)\n",
        "- factor_singkong: nilai emisi dari singkong (kgCO2e)\n",
        "- emission_singkong: total emisi per orang yang dihasilkan dari mengkonsumsi singkong (kg CO2e)\n",
        "- num_people_kacang_kacangan: jumlah orang yang ikut makan kacang_kacangan\n",
        "- consumption_kacang_kacangan: jumlah konsumsi kacang_kacangan (kg)\n",
        "- factor_kacang_kacangan: nilai emisi dari kacang_kacangan (kgCO2e)\n",
        "- emission_kacang_kacangan: total emisi per orang yang dihasilkan dari mengkonsumsi kacang_kacangan (kg CO2e)\n",
        "- num_people_daging_unggas: jumlah orang yang ikut makan daging_unggas\n",
        "- consumption_daging_unggas: jumlah konsumsi daging_unggas (kg)\n",
        "- factor_daging_unggas: nilai emisi dari daging_unggas (kgCO2e)\n",
        "- emission_daging_unggas: total emisi per orang yang dihasilkan dari mengkonsumsi daging_unggas (kg CO2e)\n",
        "- num_people_minyak_kelapa_sawit: jumlah orang yang ikut makan minyak_kelapa_sawit\n",
        "- consumption_minyak_kelapa_sawit: jumlah konsumsi minyak_kelapa_sawit (kg)\n",
        "- factor_minyak_kelapa_sawit: nilai emisi dari minyak_kelapa_sawit (kgCO2e)\n",
        "- emission_minyak_kelapa_sawit: total emisi per orang yang dihasilkan dari mengkonsumsi minyak_kelapa_sawit (kg CO2e)"
      ],
      "id": "ZImOZswUVKP9"
    },
    {
      "cell_type": "code",
      "execution_count": null,
      "metadata": {
        "id": "f60946c7-8a76-4210-99eb-204fd22ad578"
      },
      "outputs": [],
      "source": [
        "# Import library\n",
        "import pandas as pd\n",
        "import numpy as np\n",
        "from scipy import stats\n",
        "\n",
        "from sklearn import linear_model\n",
        "from sklearn.model_selection import train_test_split\n",
        "from sklearn.linear_model import LinearRegression\n",
        "from sklearn.metrics import mean_squared_error, r2_score\n",
        "from sklearn.preprocessing import StandardScaler\n",
        "from sklearn.metrics import mean_squared_error\n",
        "\n",
        "import tensorflow as tf\n",
        "from tensorflow.keras.models import Sequential\n",
        "from tensorflow.keras.layers import Dense\n",
        "from tensorflow.keras.models import save_model\n",
        "\n",
        "import matplotlib.pyplot as plt\n",
        "import seaborn as sns"
      ],
      "id": "f60946c7-8a76-4210-99eb-204fd22ad578"
    },
    {
      "cell_type": "code",
      "execution_count": null,
      "metadata": {
        "colab": {
          "base_uri": "https://localhost:8080/"
        },
        "id": "dy441P_y0t4b",
        "outputId": "e2f5620b-3e76-4941-d594-07b299764ed2"
      },
      "outputs": [
        {
          "output_type": "stream",
          "name": "stdout",
          "text": [
            "Mounted at /content/drive\n"
          ]
        }
      ],
      "source": [
        "from google.colab import drive\n",
        "drive.mount('/content/drive', force_remount=True)"
      ],
      "id": "dy441P_y0t4b"
    },
    {
      "cell_type": "markdown",
      "metadata": {
        "id": "NJcTypnnU7wM"
      },
      "source": [
        "## Load Data"
      ],
      "id": "NJcTypnnU7wM"
    },
    {
      "cell_type": "code",
      "execution_count": null,
      "metadata": {
        "colab": {
          "base_uri": "https://localhost:8080/"
        },
        "id": "OhO6QUF9b29L",
        "outputId": "65f6a0cc-3cd8-4096-c6b0-9125e9e6043d"
      },
      "outputs": [
        {
          "output_type": "stream",
          "name": "stdout",
          "text": [
            "   no         nama                       email car_class fuel_type  \\\n",
            "0   1      Nur ***  *******arizkiyah@gmail.com   Compact    Diesel   \n",
            "1   2  Syakira ***     *******akiras@gmail.com   Compact    Diesel   \n",
            "2   3  Nisrinaa **        *******alm@gmail.com   Compact    Diesel   \n",
            "3   4     Ghozi **        *******ya2@gmail.com   Compact    Diesel   \n",
            "4   5      Sarah *      *******lla49@gmail.com   Compact    Diesel   \n",
            "\n",
            "   fuel_comsumption(km/L)  emissions_factor  distanced  emissions  \n",
            "0                    5.23           0.00282         13     0.0514  \n",
            "1                    5.23           0.00282         44     0.1388  \n",
            "2                    5.23           0.00282         21     0.0740  \n",
            "3                    5.23           0.00282         57     0.1755  \n",
            "4                    5.23           0.00282         85     0.2544  \n"
          ]
        }
      ],
      "source": [
        "# Menentukan path file CSV yang telah diunggah\n",
        "file_path = '/content/drive/MyDrive/Greenix/Vehicle Dataset - vehicle_car (1).csv'\n",
        "\n",
        "# Membaca file CSV ke DataFrame\n",
        "df = pd.read_csv(file_path)\n",
        "\n",
        "# Menampilkan beberapa baris pertama DataFrame\n",
        "print(df.head())\n"
      ],
      "id": "OhO6QUF9b29L"
    },
    {
      "cell_type": "markdown",
      "metadata": {
        "id": "65bbcbde-2bf0-4727-beaf-f55b9eddd8e5"
      },
      "source": [
        "## DATA CLEANING"
      ],
      "id": "65bbcbde-2bf0-4727-beaf-f55b9eddd8e5"
    },
    {
      "cell_type": "code",
      "execution_count": null,
      "metadata": {
        "colab": {
          "base_uri": "https://localhost:8080/"
        },
        "id": "FsEkZBFAVE0G",
        "outputId": "3f2d40b6-aa8c-48fc-b376-4e57c28beea4"
      },
      "outputs": [
        {
          "output_type": "execute_result",
          "data": {
            "text/plain": [
              "0"
            ]
          },
          "metadata": {},
          "execution_count": 5
        }
      ],
      "source": [
        "# cek data duplikat\n",
        "df.duplicated().sum()"
      ],
      "id": "FsEkZBFAVE0G"
    },
    {
      "cell_type": "code",
      "execution_count": null,
      "metadata": {
        "id": "og-cB2x9VYhK"
      },
      "outputs": [],
      "source": [
        "# Membersihkan data yang tidak lengkap (Jika ada)\n",
        "df = df.dropna(axis=0)"
      ],
      "id": "og-cB2x9VYhK"
    },
    {
      "cell_type": "code",
      "execution_count": null,
      "metadata": {
        "id": "505f80a1-87a4-4fc9-90c2-557c04af2883"
      },
      "outputs": [],
      "source": [
        "df = df.drop(['no',\t'nama',\t'email'], axis=1)"
      ],
      "id": "505f80a1-87a4-4fc9-90c2-557c04af2883"
    },
    {
      "cell_type": "markdown",
      "metadata": {
        "id": "HHiwRPSTXZ9P"
      },
      "source": [
        "## Data Preprocessing"
      ],
      "id": "HHiwRPSTXZ9P"
    },
    {
      "cell_type": "code",
      "execution_count": null,
      "metadata": {
        "id": "SQmL1Z3AXZKN"
      },
      "outputs": [],
      "source": [
        "# Mengambil kolom numerik untuk perhitungan Z-score\n",
        "numeric_columns = ['fuel_comsumption(km/L)',\t'emissions_factor',\t'distanced',\t'emissions']"
      ],
      "id": "SQmL1Z3AXZKN"
    },
    {
      "cell_type": "code",
      "execution_count": null,
      "metadata": {
        "id": "ybDi2uB7XnRl"
      },
      "outputs": [],
      "source": [
        "# Mendeteksi outliers dengan Z-score\n",
        "z_scores = stats.zscore(df[numeric_columns])\n",
        "abs_z_scores = np.abs(z_scores)\n",
        "filtered_entries = (abs_z_scores < 3).all(axis=1)  \n",
        "# Menghilangkan data dengan Z-score lebih dari 3\n",
        "data = df[filtered_entries]"
      ],
      "id": "ybDi2uB7XnRl"
    },
    {
      "cell_type": "markdown",
      "metadata": {
        "id": "dqvCAuoWVS9H"
      },
      "source": [
        "## Eksplorasi Data"
      ],
      "id": "dqvCAuoWVS9H"
    },
    {
      "cell_type": "code",
      "execution_count": null,
      "metadata": {
        "colab": {
          "base_uri": "https://localhost:8080/",
          "height": 206
        },
        "id": "lNgAPXmbV8GK",
        "outputId": "bbdbff99-7dfe-4853-fd49-1f394c68f7ae"
      },
      "outputs": [
        {
          "output_type": "execute_result",
          "data": {
            "text/plain": [
              "  car_class fuel_type  fuel_comsumption(km/L)  emissions_factor  distanced  \\\n",
              "0   Compact    Diesel                    5.23           0.00282         13   \n",
              "1   Compact    Diesel                    5.23           0.00282         44   \n",
              "2   Compact    Diesel                    5.23           0.00282         21   \n",
              "3   Compact    Diesel                    5.23           0.00282         57   \n",
              "4   Compact    Diesel                    5.23           0.00282         85   \n",
              "\n",
              "   emissions  \n",
              "0     0.0514  \n",
              "1     0.1388  \n",
              "2     0.0740  \n",
              "3     0.1755  \n",
              "4     0.2544  "
            ],
            "text/html": [
              "\n",
              "  <div id=\"df-71dbfc0a-de9e-46c5-b3d5-35dfa6ab34c4\">\n",
              "    <div class=\"colab-df-container\">\n",
              "      <div>\n",
              "<style scoped>\n",
              "    .dataframe tbody tr th:only-of-type {\n",
              "        vertical-align: middle;\n",
              "    }\n",
              "\n",
              "    .dataframe tbody tr th {\n",
              "        vertical-align: top;\n",
              "    }\n",
              "\n",
              "    .dataframe thead th {\n",
              "        text-align: right;\n",
              "    }\n",
              "</style>\n",
              "<table border=\"1\" class=\"dataframe\">\n",
              "  <thead>\n",
              "    <tr style=\"text-align: right;\">\n",
              "      <th></th>\n",
              "      <th>car_class</th>\n",
              "      <th>fuel_type</th>\n",
              "      <th>fuel_comsumption(km/L)</th>\n",
              "      <th>emissions_factor</th>\n",
              "      <th>distanced</th>\n",
              "      <th>emissions</th>\n",
              "    </tr>\n",
              "  </thead>\n",
              "  <tbody>\n",
              "    <tr>\n",
              "      <th>0</th>\n",
              "      <td>Compact</td>\n",
              "      <td>Diesel</td>\n",
              "      <td>5.23</td>\n",
              "      <td>0.00282</td>\n",
              "      <td>13</td>\n",
              "      <td>0.0514</td>\n",
              "    </tr>\n",
              "    <tr>\n",
              "      <th>1</th>\n",
              "      <td>Compact</td>\n",
              "      <td>Diesel</td>\n",
              "      <td>5.23</td>\n",
              "      <td>0.00282</td>\n",
              "      <td>44</td>\n",
              "      <td>0.1388</td>\n",
              "    </tr>\n",
              "    <tr>\n",
              "      <th>2</th>\n",
              "      <td>Compact</td>\n",
              "      <td>Diesel</td>\n",
              "      <td>5.23</td>\n",
              "      <td>0.00282</td>\n",
              "      <td>21</td>\n",
              "      <td>0.0740</td>\n",
              "    </tr>\n",
              "    <tr>\n",
              "      <th>3</th>\n",
              "      <td>Compact</td>\n",
              "      <td>Diesel</td>\n",
              "      <td>5.23</td>\n",
              "      <td>0.00282</td>\n",
              "      <td>57</td>\n",
              "      <td>0.1755</td>\n",
              "    </tr>\n",
              "    <tr>\n",
              "      <th>4</th>\n",
              "      <td>Compact</td>\n",
              "      <td>Diesel</td>\n",
              "      <td>5.23</td>\n",
              "      <td>0.00282</td>\n",
              "      <td>85</td>\n",
              "      <td>0.2544</td>\n",
              "    </tr>\n",
              "  </tbody>\n",
              "</table>\n",
              "</div>\n",
              "      <button class=\"colab-df-convert\" onclick=\"convertToInteractive('df-71dbfc0a-de9e-46c5-b3d5-35dfa6ab34c4')\"\n",
              "              title=\"Convert this dataframe to an interactive table.\"\n",
              "              style=\"display:none;\">\n",
              "        \n",
              "  <svg xmlns=\"http://www.w3.org/2000/svg\" height=\"24px\"viewBox=\"0 0 24 24\"\n",
              "       width=\"24px\">\n",
              "    <path d=\"M0 0h24v24H0V0z\" fill=\"none\"/>\n",
              "    <path d=\"M18.56 5.44l.94 2.06.94-2.06 2.06-.94-2.06-.94-.94-2.06-.94 2.06-2.06.94zm-11 1L8.5 8.5l.94-2.06 2.06-.94-2.06-.94L8.5 2.5l-.94 2.06-2.06.94zm10 10l.94 2.06.94-2.06 2.06-.94-2.06-.94-.94-2.06-.94 2.06-2.06.94z\"/><path d=\"M17.41 7.96l-1.37-1.37c-.4-.4-.92-.59-1.43-.59-.52 0-1.04.2-1.43.59L10.3 9.45l-7.72 7.72c-.78.78-.78 2.05 0 2.83L4 21.41c.39.39.9.59 1.41.59.51 0 1.02-.2 1.41-.59l7.78-7.78 2.81-2.81c.8-.78.8-2.07 0-2.86zM5.41 20L4 18.59l7.72-7.72 1.47 1.35L5.41 20z\"/>\n",
              "  </svg>\n",
              "      </button>\n",
              "      \n",
              "  <style>\n",
              "    .colab-df-container {\n",
              "      display:flex;\n",
              "      flex-wrap:wrap;\n",
              "      gap: 12px;\n",
              "    }\n",
              "\n",
              "    .colab-df-convert {\n",
              "      background-color: #E8F0FE;\n",
              "      border: none;\n",
              "      border-radius: 50%;\n",
              "      cursor: pointer;\n",
              "      display: none;\n",
              "      fill: #1967D2;\n",
              "      height: 32px;\n",
              "      padding: 0 0 0 0;\n",
              "      width: 32px;\n",
              "    }\n",
              "\n",
              "    .colab-df-convert:hover {\n",
              "      background-color: #E2EBFA;\n",
              "      box-shadow: 0px 1px 2px rgba(60, 64, 67, 0.3), 0px 1px 3px 1px rgba(60, 64, 67, 0.15);\n",
              "      fill: #174EA6;\n",
              "    }\n",
              "\n",
              "    [theme=dark] .colab-df-convert {\n",
              "      background-color: #3B4455;\n",
              "      fill: #D2E3FC;\n",
              "    }\n",
              "\n",
              "    [theme=dark] .colab-df-convert:hover {\n",
              "      background-color: #434B5C;\n",
              "      box-shadow: 0px 1px 3px 1px rgba(0, 0, 0, 0.15);\n",
              "      filter: drop-shadow(0px 1px 2px rgba(0, 0, 0, 0.3));\n",
              "      fill: #FFFFFF;\n",
              "    }\n",
              "  </style>\n",
              "\n",
              "      <script>\n",
              "        const buttonEl =\n",
              "          document.querySelector('#df-71dbfc0a-de9e-46c5-b3d5-35dfa6ab34c4 button.colab-df-convert');\n",
              "        buttonEl.style.display =\n",
              "          google.colab.kernel.accessAllowed ? 'block' : 'none';\n",
              "\n",
              "        async function convertToInteractive(key) {\n",
              "          const element = document.querySelector('#df-71dbfc0a-de9e-46c5-b3d5-35dfa6ab34c4');\n",
              "          const dataTable =\n",
              "            await google.colab.kernel.invokeFunction('convertToInteractive',\n",
              "                                                     [key], {});\n",
              "          if (!dataTable) return;\n",
              "\n",
              "          const docLinkHtml = 'Like what you see? Visit the ' +\n",
              "            '<a target=\"_blank\" href=https://colab.research.google.com/notebooks/data_table.ipynb>data table notebook</a>'\n",
              "            + ' to learn more about interactive tables.';\n",
              "          element.innerHTML = '';\n",
              "          dataTable['output_type'] = 'display_data';\n",
              "          await google.colab.output.renderOutput(dataTable, element);\n",
              "          const docLink = document.createElement('div');\n",
              "          docLink.innerHTML = docLinkHtml;\n",
              "          element.appendChild(docLink);\n",
              "        }\n",
              "      </script>\n",
              "    </div>\n",
              "  </div>\n",
              "  "
            ]
          },
          "metadata": {},
          "execution_count": 10
        }
      ],
      "source": [
        "df.head()"
      ],
      "id": "lNgAPXmbV8GK"
    },
    {
      "cell_type": "code",
      "execution_count": null,
      "metadata": {
        "colab": {
          "base_uri": "https://localhost:8080/"
        },
        "id": "Fogd8zdVWADJ",
        "outputId": "8e7be8f2-95a8-406a-c724-8861658ebe77"
      },
      "outputs": [
        {
          "output_type": "execute_result",
          "data": {
            "text/plain": [
              "(649, 6)"
            ]
          },
          "metadata": {},
          "execution_count": 11
        }
      ],
      "source": [
        "# Melihat jumlah baris dan kolom\n",
        "df.shape"
      ],
      "id": "Fogd8zdVWADJ"
    },
    {
      "cell_type": "code",
      "execution_count": null,
      "metadata": {
        "colab": {
          "base_uri": "https://localhost:8080/",
          "height": 300
        },
        "id": "t7M3jsi9V8It",
        "outputId": "85d6b5bf-1076-427e-c699-0dda9734f8db"
      },
      "outputs": [
        {
          "output_type": "execute_result",
          "data": {
            "text/plain": [
              "       fuel_comsumption(km/L)  emissions_factor   distanced   emissions\n",
              "count              649.000000        649.000000  649.000000  649.000000\n",
              "mean                 7.049661          0.008357   51.483821    0.490212\n",
              "std                  1.904375          0.003063   28.933035    0.318264\n",
              "min                  4.220000          0.002820    1.000000    0.020400\n",
              "25%                  5.230000          0.006410   27.000000    0.225800\n",
              "50%                  6.830000          0.007910   52.000000    0.424500\n",
              "75%                  8.420000          0.011890   77.000000    0.716900\n",
              "max                 10.010000          0.011910  100.000000    1.310200"
            ],
            "text/html": [
              "\n",
              "  <div id=\"df-c5e215f8-0df2-4e64-936e-bed8ed813061\">\n",
              "    <div class=\"colab-df-container\">\n",
              "      <div>\n",
              "<style scoped>\n",
              "    .dataframe tbody tr th:only-of-type {\n",
              "        vertical-align: middle;\n",
              "    }\n",
              "\n",
              "    .dataframe tbody tr th {\n",
              "        vertical-align: top;\n",
              "    }\n",
              "\n",
              "    .dataframe thead th {\n",
              "        text-align: right;\n",
              "    }\n",
              "</style>\n",
              "<table border=\"1\" class=\"dataframe\">\n",
              "  <thead>\n",
              "    <tr style=\"text-align: right;\">\n",
              "      <th></th>\n",
              "      <th>fuel_comsumption(km/L)</th>\n",
              "      <th>emissions_factor</th>\n",
              "      <th>distanced</th>\n",
              "      <th>emissions</th>\n",
              "    </tr>\n",
              "  </thead>\n",
              "  <tbody>\n",
              "    <tr>\n",
              "      <th>count</th>\n",
              "      <td>649.000000</td>\n",
              "      <td>649.000000</td>\n",
              "      <td>649.000000</td>\n",
              "      <td>649.000000</td>\n",
              "    </tr>\n",
              "    <tr>\n",
              "      <th>mean</th>\n",
              "      <td>7.049661</td>\n",
              "      <td>0.008357</td>\n",
              "      <td>51.483821</td>\n",
              "      <td>0.490212</td>\n",
              "    </tr>\n",
              "    <tr>\n",
              "      <th>std</th>\n",
              "      <td>1.904375</td>\n",
              "      <td>0.003063</td>\n",
              "      <td>28.933035</td>\n",
              "      <td>0.318264</td>\n",
              "    </tr>\n",
              "    <tr>\n",
              "      <th>min</th>\n",
              "      <td>4.220000</td>\n",
              "      <td>0.002820</td>\n",
              "      <td>1.000000</td>\n",
              "      <td>0.020400</td>\n",
              "    </tr>\n",
              "    <tr>\n",
              "      <th>25%</th>\n",
              "      <td>5.230000</td>\n",
              "      <td>0.006410</td>\n",
              "      <td>27.000000</td>\n",
              "      <td>0.225800</td>\n",
              "    </tr>\n",
              "    <tr>\n",
              "      <th>50%</th>\n",
              "      <td>6.830000</td>\n",
              "      <td>0.007910</td>\n",
              "      <td>52.000000</td>\n",
              "      <td>0.424500</td>\n",
              "    </tr>\n",
              "    <tr>\n",
              "      <th>75%</th>\n",
              "      <td>8.420000</td>\n",
              "      <td>0.011890</td>\n",
              "      <td>77.000000</td>\n",
              "      <td>0.716900</td>\n",
              "    </tr>\n",
              "    <tr>\n",
              "      <th>max</th>\n",
              "      <td>10.010000</td>\n",
              "      <td>0.011910</td>\n",
              "      <td>100.000000</td>\n",
              "      <td>1.310200</td>\n",
              "    </tr>\n",
              "  </tbody>\n",
              "</table>\n",
              "</div>\n",
              "      <button class=\"colab-df-convert\" onclick=\"convertToInteractive('df-c5e215f8-0df2-4e64-936e-bed8ed813061')\"\n",
              "              title=\"Convert this dataframe to an interactive table.\"\n",
              "              style=\"display:none;\">\n",
              "        \n",
              "  <svg xmlns=\"http://www.w3.org/2000/svg\" height=\"24px\"viewBox=\"0 0 24 24\"\n",
              "       width=\"24px\">\n",
              "    <path d=\"M0 0h24v24H0V0z\" fill=\"none\"/>\n",
              "    <path d=\"M18.56 5.44l.94 2.06.94-2.06 2.06-.94-2.06-.94-.94-2.06-.94 2.06-2.06.94zm-11 1L8.5 8.5l.94-2.06 2.06-.94-2.06-.94L8.5 2.5l-.94 2.06-2.06.94zm10 10l.94 2.06.94-2.06 2.06-.94-2.06-.94-.94-2.06-.94 2.06-2.06.94z\"/><path d=\"M17.41 7.96l-1.37-1.37c-.4-.4-.92-.59-1.43-.59-.52 0-1.04.2-1.43.59L10.3 9.45l-7.72 7.72c-.78.78-.78 2.05 0 2.83L4 21.41c.39.39.9.59 1.41.59.51 0 1.02-.2 1.41-.59l7.78-7.78 2.81-2.81c.8-.78.8-2.07 0-2.86zM5.41 20L4 18.59l7.72-7.72 1.47 1.35L5.41 20z\"/>\n",
              "  </svg>\n",
              "      </button>\n",
              "      \n",
              "  <style>\n",
              "    .colab-df-container {\n",
              "      display:flex;\n",
              "      flex-wrap:wrap;\n",
              "      gap: 12px;\n",
              "    }\n",
              "\n",
              "    .colab-df-convert {\n",
              "      background-color: #E8F0FE;\n",
              "      border: none;\n",
              "      border-radius: 50%;\n",
              "      cursor: pointer;\n",
              "      display: none;\n",
              "      fill: #1967D2;\n",
              "      height: 32px;\n",
              "      padding: 0 0 0 0;\n",
              "      width: 32px;\n",
              "    }\n",
              "\n",
              "    .colab-df-convert:hover {\n",
              "      background-color: #E2EBFA;\n",
              "      box-shadow: 0px 1px 2px rgba(60, 64, 67, 0.3), 0px 1px 3px 1px rgba(60, 64, 67, 0.15);\n",
              "      fill: #174EA6;\n",
              "    }\n",
              "\n",
              "    [theme=dark] .colab-df-convert {\n",
              "      background-color: #3B4455;\n",
              "      fill: #D2E3FC;\n",
              "    }\n",
              "\n",
              "    [theme=dark] .colab-df-convert:hover {\n",
              "      background-color: #434B5C;\n",
              "      box-shadow: 0px 1px 3px 1px rgba(0, 0, 0, 0.15);\n",
              "      filter: drop-shadow(0px 1px 2px rgba(0, 0, 0, 0.3));\n",
              "      fill: #FFFFFF;\n",
              "    }\n",
              "  </style>\n",
              "\n",
              "      <script>\n",
              "        const buttonEl =\n",
              "          document.querySelector('#df-c5e215f8-0df2-4e64-936e-bed8ed813061 button.colab-df-convert');\n",
              "        buttonEl.style.display =\n",
              "          google.colab.kernel.accessAllowed ? 'block' : 'none';\n",
              "\n",
              "        async function convertToInteractive(key) {\n",
              "          const element = document.querySelector('#df-c5e215f8-0df2-4e64-936e-bed8ed813061');\n",
              "          const dataTable =\n",
              "            await google.colab.kernel.invokeFunction('convertToInteractive',\n",
              "                                                     [key], {});\n",
              "          if (!dataTable) return;\n",
              "\n",
              "          const docLinkHtml = 'Like what you see? Visit the ' +\n",
              "            '<a target=\"_blank\" href=https://colab.research.google.com/notebooks/data_table.ipynb>data table notebook</a>'\n",
              "            + ' to learn more about interactive tables.';\n",
              "          element.innerHTML = '';\n",
              "          dataTable['output_type'] = 'display_data';\n",
              "          await google.colab.output.renderOutput(dataTable, element);\n",
              "          const docLink = document.createElement('div');\n",
              "          docLink.innerHTML = docLinkHtml;\n",
              "          element.appendChild(docLink);\n",
              "        }\n",
              "      </script>\n",
              "    </div>\n",
              "  </div>\n",
              "  "
            ]
          },
          "metadata": {},
          "execution_count": 12
        }
      ],
      "source": [
        "# Melihat info statistik data\n",
        "df.describe()"
      ],
      "id": "t7M3jsi9V8It"
    },
    {
      "cell_type": "code",
      "execution_count": null,
      "metadata": {
        "colab": {
          "base_uri": "https://localhost:8080/"
        },
        "id": "8dd4387e-222b-4324-8c7e-50928af70300",
        "outputId": "39392d03-de73-4aee-89d0-3e63a62d5041"
      },
      "outputs": [
        {
          "output_type": "stream",
          "name": "stdout",
          "text": [
            "car_class                  object\n",
            "fuel_type                  object\n",
            "fuel_comsumption(km/L)    float64\n",
            "emissions_factor          float64\n",
            "distanced                   int64\n",
            "emissions                 float64\n",
            "dtype: object\n"
          ]
        }
      ],
      "source": [
        "# Melihat tipe data\n",
        "print(df.dtypes)"
      ],
      "id": "8dd4387e-222b-4324-8c7e-50928af70300"
    },
    {
      "cell_type": "code",
      "execution_count": null,
      "metadata": {
        "colab": {
          "base_uri": "https://localhost:8080/"
        },
        "id": "ef91ebcc-8cd8-40e1-93f4-77ba533a90b3",
        "outputId": "c61f13cf-388d-46cc-cc43-ce039413f72b"
      },
      "outputs": [
        {
          "output_type": "execute_result",
          "data": {
            "text/plain": [
              "car_class                 0\n",
              "fuel_type                 0\n",
              "fuel_comsumption(km/L)    0\n",
              "emissions_factor          0\n",
              "distanced                 0\n",
              "emissions                 0\n",
              "dtype: int64"
            ]
          },
          "metadata": {},
          "execution_count": 14
        }
      ],
      "source": [
        "# melihat missing values\n",
        "df[df==0].count()"
      ],
      "id": "ef91ebcc-8cd8-40e1-93f4-77ba533a90b3"
    },
    {
      "cell_type": "markdown",
      "metadata": {
        "id": "869773f3-8179-499a-ac28-2a3db252af2f"
      },
      "source": [
        "Pada tfep_kgco2e tidak terdapat user yang memiliki nilai 0 yang berarti seluruh responden melakukan konsumsi dari pilihan makanan sehingga seluruh responden menghasilkan emisi.\n",
        "Pada makanan jagung terdapat 2185 baris yang memiliki nilai 0, sedangkan pada makanan beras terdapat 55 baris yang memiliki nilai 0, pada makanan singkong terdapat 2188 baris yang memiliki nilai 0, kemudian pada makanan kacang-kacangan terdapat 2187 baris yang memiliki nilai 0, pada makanan daging unggas terdapat 2178 baris yang memiliki nilai 0 dan terakhir pada makanan minyak kelapa sawit terdapat 2219 baris yang memiliki nilai 0.\n",
        "\n",
        "Seluruh baris tersebut tidak di drop karena responden bisa jadi tidak mengkonsumsi makanan tersebut pada hari tersebut."
      ],
      "id": "869773f3-8179-499a-ac28-2a3db252af2f"
    },
    {
      "cell_type": "code",
      "execution_count": null,
      "metadata": {
        "colab": {
          "base_uri": "https://localhost:8080/",
          "height": 594
        },
        "id": "119a0733-145c-486f-a886-7dcde968ab62",
        "outputId": "d7595a23-2f6b-4348-b88a-ba88a4c9cffd"
      },
      "outputs": [
        {
          "output_type": "display_data",
          "data": {
            "text/plain": [
              "<Figure size 640x480 with 2 Axes>"
            ],
            "image/png": "[encoded data removed]"
          },
          "metadata": {}
        }
      ],
      "source": [
        "# Subset kolom emisi\n",
        "emission_variable_columns = ['fuel_comsumption(km/L)',\t'emissions_factor',\t'distanced']\n",
        "\n",
        "# Melihat korelasi antarkolom dengan kolom tfep_kgco2e\n",
        "sns.heatmap(df[emission_variable_columns + ['emissions']].corr(), annot=True)\n",
        "plt.show()"
      ],
      "id": "119a0733-145c-486f-a886-7dcde968ab62"
    },
    {
      "cell_type": "code",
      "execution_count": null,
      "metadata": {
        "colab": {
          "base_uri": "https://localhost:8080/",
          "height": 607
        },
        "id": "2ef23442-747d-4c62-8319-fa8deac55ccb",
        "outputId": "43d1d15f-3c28-47e0-b681-51ff2a0cecdc"
      },
      "outputs": [
        {
          "output_type": "display_data",
          "data": {
            "text/plain": [
              "<Figure size 800x600 with 2 Axes>"
            ],
            "image/png": "[encoded data removed]"
          },
          "metadata": {}
        }
      ],
      "source": [
        "car_emissions_columns = {\n",
        "    'Car': ['fuel_comsumption(km/L)',\t'emissions_factor',\t'distanced', 'emissions'],\n",
        "}\n",
        "\n",
        "# Membuat subplots untuk masing-masing mobil\n",
        "fig, axes = plt.subplots(1, 1, figsize=(8, 6))\n",
        "\n",
        "# Meloopi setiap mobil\n",
        "for car, columns in car_emissions_columns.items():\n",
        "    # Subset kolom untuk mobil tertentu\n",
        "    subset = df[columns].corr()\n",
        "    \n",
        "    # Heatmap untuk mobil tertentu\n",
        "    sns.heatmap(subset, annot=True, ax=axes)\n",
        "    axes.set_title(f'Korelasi {car.capitalize()}')\n",
        "\n",
        "# Menampilkan plot\n",
        "plt.tight_layout()\n",
        "plt.show()"
      ],
      "id": "2ef23442-747d-4c62-8319-fa8deac55ccb"
    },
    {
      "cell_type": "code",
      "execution_count": null,
      "metadata": {
        "id": "6OqBYRSU3gbQ"
      },
      "outputs": [],
      "source": [
        "# Mengambil kolom numerik untuk perhitungan Z-score\n",
        "numeric_columns = ['fuel_comsumption(km/L)',\t'emissions_factor',\t'distanced',\t'emissions']"
      ],
      "id": "6OqBYRSU3gbQ"
    },
    {
      "cell_type": "markdown",
      "metadata": {
        "id": "ce90d76b-3196-4c00-a8ab-7cc8e1748fcf"
      },
      "source": [
        "### Feature Selection\n",
        "Akan dilakukan pemisahan fitur dan target untuk setiap makanan. \n",
        "Yang menjadi fitur adalah 'num_people' dan 'consumption', sedangkan untuk target kami adalah 'emission'."
      ],
      "id": "ce90d76b-3196-4c00-a8ab-7cc8e1748fcf"
    },
    {
      "cell_type": "code",
      "execution_count": null,
      "metadata": {
        "id": "85f2b83c-8946-480e-8076-947103b3e5b3"
      },
      "outputs": [],
      "source": [
        "# Memisahkan fitur dan target untuk car\n",
        "car_features = df[['fuel_comsumption(km/L)',\t'emissions_factor',\t'distanced']]\n",
        "car_target = df['emissions']"
      ],
      "id": "85f2b83c-8946-480e-8076-947103b3e5b3"
    },
    {
      "cell_type": "markdown",
      "metadata": {
        "id": "e736fd42-a3b4-444c-91f8-353d6def2b81"
      },
      "source": [
        "### Splitting Data\n",
        "Data yang digunakan untuk training sebanyak 80% dan testing sebanyak 20%"
      ],
      "id": "e736fd42-a3b4-444c-91f8-353d6def2b81"
    },
    {
      "cell_type": "code",
      "execution_count": null,
      "metadata": {
        "id": "1cfcd3e8-9cca-4cbd-b43d-f7ed2bedde33"
      },
      "outputs": [],
      "source": [
        "# Membagi data car menjadi set pelatihan dan pengujian\n",
        "car_X_train, car_X_test, car_y_train, car_y_test = train_test_split(car_features, car_target, test_size=0.2, random_state=42)"
      ],
      "id": "1cfcd3e8-9cca-4cbd-b43d-f7ed2bedde33"
    },
    {
      "cell_type": "markdown",
      "metadata": {
        "id": "d1b80200-e348-4aff-926b-5bfaa4066987"
      },
      "source": [
        "### Modelling \n",
        "Melatih model dengan regresi linier untuk setiap makanan"
      ],
      "id": "d1b80200-e348-4aff-926b-5bfaa4066987"
    },
    {
      "cell_type": "code",
      "execution_count": null,
      "metadata": {
        "id": "ad32436c-5311-408e-a90c-a2d60804ddfe"
      },
      "outputs": [],
      "source": [
        "# Melatih model regresi linier untuk beras\n",
        "car_model = LinearRegression()\n",
        "car_model.fit(car_X_train, car_y_train)\n",
        "\n",
        "# Melakukan prediksi emisi karbon dari konsumsi beras\n",
        "car_y_pred = car_model.predict(car_X_test)\n",
        "\n",
        "# Menghitung evaluasi performa model untuk beras\n",
        "car_mse = mean_squared_error(car_y_test, car_y_pred)\n",
        "car_r2 = r2_score(car_y_test, car_y_pred)"
      ],
      "id": "ad32436c-5311-408e-a90c-a2d60804ddfe"
    },
    {
      "cell_type": "markdown",
      "metadata": {
        "id": "b67e8786-0882-433e-8c88-d34cd0b66559"
      },
      "source": [
        "Untuk evaluasi performa model ini menggunakan MSE dibanding MAE karen beberapa pertimbangan-pertimbangan berikut:\n",
        "1. Dalam perhitungan MSE, bobot yang diberikan pada kesalahan yang besar lebih tinggi karena selisih antara nilai prediksi dan nilai sebenarnya di kuadratkan. Hal ini memungkinkan pengidentifikasian dan penekanan pada outlier atau kesalahan prediksi yang signifikan dalam model. Saya mengutamakan identifikasi kesalahan prediksi yang penting dan membutuhkan perhatian lebih.\n",
        "2. Selain itu saya juga ingin mengukur kesalahan prediksi dalam skala yang sama dengan variabel target, yaitu emisi karbon. MSE memberikan hasil dalam satuan kuadrat (misalnya, kg CO2e^2), yang konsisten dengan skala variabel target. Sehingga saya ingin memastikan bahwa ukuran kesalahan yang saya gunakan sesuai dengan skala yang relevan.\n",
        "3. MSE memberikan penekanan lebih pada kesalahan yang lebih besar karena mengkuadratkan selisih antara prediksi dan nilai sebenarnya. Sebagai seorang data scientist, saya ingin memastikan bahwa kesalahan prediksi yang signifikan memiliki dampak yang lebih besar pada penilaian performa model."
      ],
      "id": "b67e8786-0882-433e-8c88-d34cd0b66559"
    },
    {
      "cell_type": "code",
      "execution_count": null,
      "metadata": {
        "colab": {
          "base_uri": "https://localhost:8080/"
        },
        "id": "2007ac5d-505e-43f4-9162-5ea2cd48fd4e",
        "outputId": "6db97e06-0bd1-42b4-9f3b-db0baa5c69cc"
      },
      "outputs": [
        {
          "output_type": "stream",
          "name": "stdout",
          "text": [
            "Hasil evaluasi performa model untuk car:\n",
            "MSE: 0.006740275480365197\n",
            "R-squared: 0.925760132998354\n"
          ]
        }
      ],
      "source": [
        "# Menampilkan hasil evaluasi performa model\n",
        "print(\"Hasil evaluasi performa model untuk car:\")\n",
        "print(\"MSE:\", car_mse)\n",
        "print(\"R-squared:\", car_r2)\n",
        "\n",
        "#Hasil evaluasi performa model untuk car:\n",
        "#MSE: 18.310887105568824\n",
        "#R-squared: 0.7626739352396132"
      ],
      "id": "2007ac5d-505e-43f4-9162-5ea2cd48fd4e"
    },
    {
      "cell_type": "markdown",
      "metadata": {
        "id": "3cda82ef-df3f-4437-b0ab-5b67e1675267"
      },
      "source": [
        "# Interpretasi\n",
        "\n",
        "**Evaluasi performa model untuk beras:**\n",
        "- MSE (Mean Squared Error): 0.1887 \n",
        "- R-squared: 0.7383 \n",
        "- Evaluasi performa model untuk beras menunjukkan hasil yang baik. Nilai MSE yang rendah dan nilai R-squared yang cukup tinggi menunjukkan bahwa model regresi linear untuk beras memiliki tingkat kesalahan yang relatif kecil dan mampu menjelaskan sekitar 73.83% variasi dalam emisi karbon beras.\n",
        "\n",
        "**Evaluasi performa model untuk jagung:**\n",
        "- MSE: 0.0324\n",
        "- R-squared: 0.8893 \n",
        "- Evaluasi performa model untuk jagung menunjukkan hasil yang baik. Nilai MSE yang rendah dan nilai R-squared yang tinggi menunjukkan bahwa model regresi linear untuk jagung memiliki tingkat kesalahan yang kecil dan mampu menjelaskan sekitar 88.93% variasi dalam emisi karbon jagung.\n",
        "\n",
        "**Evaluasi performa model untuk singkong:**\n",
        "- MSE: 0.0194\n",
        "- R-squared: 0.9233 \n",
        "- Evaluasi performa model untuk singkong menunjukkan hasil yang sangat baik. Nilai MSE yang rendah dan nilai R-squared yang tinggi menunjukkan bahwa model regresi linear untuk singkong memiliki tingkat kesalahan yang rendah dan mampu menjelaskan sekitar 92.33% variasi dalam emisi karbon singkong.\n",
        "\n",
        "**Evaluasi performa model untuk kacang-kacangan:**\n",
        "- MSE: 0.1360\n",
        "- R-squared: 0.8863 \n",
        "- Evaluasi performa model untuk kacang-kacangan menunjukkan hasil yang baik. Nilai MSE yang rendah dan nilai R-squared yang tinggi menunjukkan bahwa model regresi linear untuk kacang-kacangan memiliki tingkat kesalahan yang relatif kecil dan mampu menjelaskan sekitar 88.63% variasi dalam emisi karbon kacang-kacangan.\n",
        "\n",
        "**Evaluasi performa model untuk daging unggas:**\n",
        "- MSE: 3.0359\n",
        "- R-squared: 0.8655 \n",
        "- Evaluasi performa model untuk daging unggas menunjukkan hasil yang kurang baik. Nilai MSE yang tinggi menunjukkan tingkat kesalahan yang besar. Namun, nilai R-squared yang tinggi sebesar 0.8655 menunjukkan bahwa sekitar 86.55% variasi dalam emisi karbon daging unggas dapat dijelaskan oleh model.\n",
        "\n",
        "**Evaluasi performa model untuk minyak kelapa sawit:**\n",
        "- MSE: 0.9014\n",
        "- R-squared: 0.853\n",
        "- Evaluasi performa model untuk minyak kelapa sawit menunjukkan hasil yang cukup baik. Nilai MSE yang rendah dan nilai R-squared yang tinggi menunjukkan bahwa model regresi linear untuk minyak kelapa sawit memiliki tingkat kesalahan yang relatif kecil dan mampu menjelaskan sekitar 85.33% variasi dalam emisi karbon minyak kelapa sawit."
      ],
      "id": "3cda82ef-df3f-4437-b0ab-5b67e1675267"
    },
    {
      "cell_type": "code",
      "execution_count": null,
      "metadata": {
        "colab": {
          "base_uri": "https://localhost:8080/",
          "height": 472
        },
        "id": "580b4c1e-5a16-49e6-931c-f0807484de4b",
        "outputId": "cc15b263-5244-4e03-a5d5-26b6d1a95be3"
      },
      "outputs": [
        {
          "output_type": "display_data",
          "data": {
            "text/plain": [
              "<Figure size 640x480 with 1 Axes>"
            ],
            "image/png": "[encoded data removed]"
          },
          "metadata": {}
        }
      ],
      "source": [
        "import numpy as np\n",
        "import matplotlib.pyplot as plt\n",
        "\n",
        "# Visualisasi dan garis regresi untuk beras\n",
        "plt.scatter(car_y_test, car_y_pred, color='blue', alpha=0.5)\n",
        "plt.plot(np.unique(car_y_test), np.poly1d(np.polyfit(car_y_test, car_y_pred, 1))(np.unique(car_y_test)), color='red')\n",
        "plt.xlabel('Nilai Sebenarnya')\n",
        "plt.ylabel('Prediksi')\n",
        "plt.title('Prediksi Emisi Karbon - Car')\n",
        "plt.show()\n"
      ],
      "id": "580b4c1e-5a16-49e6-931c-f0807484de4b"
    },
    {
      "cell_type": "markdown",
      "metadata": {
        "id": "dI5ZlRCrhipQ"
      },
      "source": [
        "# Membuat model Deep Learning. \n",
        "- model neural network dengan 3 layer untuk memprediksi emisi karbon dari konsumsi masing-masing makanan.\n",
        "- menggunakan fungsi aktivasi relu pada layer pertama dan kedua, dan tidak menggunakan fungsi aktivasi pada layer output karena masalah regresi.\n",
        "- Data diskalakan agar model dapat lebih efisien (menggunakan StandardScaler dari scikit-learn )"
      ],
      "id": "dI5ZlRCrhipQ"
    },
    {
      "cell_type": "code",
      "execution_count": null,
      "metadata": {
        "id": "BSQldQQICREX",
        "colab": {
          "base_uri": "https://localhost:8080/"
        },
        "outputId": "4989fe6b-c016-4134-e4a1-cabb60529b43"
      },
      "outputs": [
        {
          "output_type": "stream",
          "name": "stdout",
          "text": [
            "Epoch 1/20\n",
            "7/7 [==============================] - 0s 21ms/step - loss: 0.1566 - val_loss: 0.0908\n",
            "Epoch 2/20\n",
            "7/7 [==============================] - 0s 6ms/step - loss: 0.0728 - val_loss: 0.0452\n",
            "Epoch 3/20\n",
            "7/7 [==============================] - 0s 6ms/step - loss: 0.0372 - val_loss: 0.0289\n",
            "Epoch 4/20\n",
            "7/7 [==============================] - 0s 7ms/step - loss: 0.0257 - val_loss: 0.0213\n",
            "Epoch 5/20\n",
            "7/7 [==============================] - 0s 6ms/step - loss: 0.0182 - val_loss: 0.0163\n",
            "Epoch 6/20\n",
            "7/7 [==============================] - 0s 6ms/step - loss: 0.0138 - val_loss: 0.0145\n",
            "Epoch 7/20\n",
            "7/7 [==============================] - 0s 6ms/step - loss: 0.0120 - val_loss: 0.0132\n",
            "Epoch 8/20\n",
            "7/7 [==============================] - 0s 6ms/step - loss: 0.0105 - val_loss: 0.0114\n",
            "Epoch 9/20\n",
            "7/7 [==============================] - 0s 6ms/step - loss: 0.0089 - val_loss: 0.0100\n",
            "Epoch 10/20\n",
            "7/7 [==============================] - 0s 6ms/step - loss: 0.0079 - val_loss: 0.0090\n",
            "Epoch 11/20\n",
            "7/7 [==============================] - 0s 7ms/step - loss: 0.0071 - val_loss: 0.0080\n",
            "Epoch 12/20\n",
            "7/7 [==============================] - 0s 6ms/step - loss: 0.0064 - val_loss: 0.0073\n",
            "Epoch 13/20\n",
            "7/7 [==============================] - 0s 6ms/step - loss: 0.0058 - val_loss: 0.0068\n",
            "Epoch 14/20\n",
            "7/7 [==============================] - 0s 7ms/step - loss: 0.0053 - val_loss: 0.0062\n",
            "Epoch 15/20\n",
            "7/7 [==============================] - 0s 7ms/step - loss: 0.0048 - val_loss: 0.0058\n",
            "Epoch 16/20\n",
            "7/7 [==============================] - 0s 8ms/step - loss: 0.0044 - val_loss: 0.0053\n",
            "Epoch 17/20\n",
            "7/7 [==============================] - 0s 6ms/step - loss: 0.0041 - val_loss: 0.0049\n",
            "Epoch 18/20\n",
            "7/7 [==============================] - 0s 6ms/step - loss: 0.0038 - val_loss: 0.0046\n",
            "Epoch 19/20\n",
            "7/7 [==============================] - 0s 6ms/step - loss: 0.0035 - val_loss: 0.0043\n",
            "Epoch 20/20\n",
            "7/7 [==============================] - 0s 6ms/step - loss: 0.0033 - val_loss: 0.0040\n",
            "Hasil evaluasi performa model TensorFlow untuk Mobil:\n",
            "MSE: 0.002589471822608443\n",
            "RMSE: 0.05088685314114485\n",
            "R-squared: 0.9714786073247343\n"
          ]
        }
      ],
      "source": [
        "from sklearn.metrics import mean_squared_error, r2_score\n",
        "# Standarisasi fitur dengan StandardScaler\n",
        "scaler = StandardScaler()\n",
        "car_X_train_scaled = scaler.fit_transform(car_X_train)\n",
        "car_X_test_scaled = scaler.transform(car_X_test)\n",
        "\n",
        "# Membuat model Sequential untuk beras\n",
        "car_model_tf = Sequential()\n",
        "car_model_tf.add(Dense(32, input_dim=car_X_train_scaled.shape[1], activation='relu'))\n",
        "car_model_tf.add(Dense(16, activation='relu'))\n",
        "car_model_tf.add(Dense(1))\n",
        "car_model_tf.compile(loss='mean_squared_error', optimizer='adam')\n",
        "\n",
        "car_model_tf.fit(car_X_train_scaled, car_y_train, epochs=20, batch_size=64, validation_split=0.2)\n",
        "car_y_pred_tf = car_model_tf.predict(car_X_test_scaled[:, :3])\n",
        "car_mse_tf = mean_squared_error(car_y_test, car_y_pred_tf)\n",
        "car_rmse_tf = np.sqrt(car_mse_tf)\n",
        "car_r2_tf = r2_score(car_y_test, car_y_pred_tf)\n",
        "\n",
        "print(\"Hasil evaluasi performa model TensorFlow untuk Mobil:\")\n",
        "print(\"MSE:\", car_mse_tf)\n",
        "print(\"RMSE:\", car_rmse_tf)\n",
        "print(\"R-squared:\", car_r2_tf)"
      ],
      "id": "BSQldQQICREX"
    },
    {
      "cell_type": "code",
      "source": [
        "from google.colab import drive\n",
        "drive.mount('/content/gdrive', force_remount=True)"
      ],
      "metadata": {
        "colab": {
          "base_uri": "https://localhost:8080/"
        },
        "id": "XauH65AsLrAh",
        "outputId": "dcee9c35-138a-4f22-a248-dd20d1a79cd4"
      },
      "id": "XauH65AsLrAh",
      "execution_count": null,
      "outputs": [
        {
          "output_type": "stream",
          "name": "stdout",
          "text": [
            "Mounted at /content/gdrive\n"
          ]
        }
      ]
    },
    {
      "cell_type": "code",
      "source": [
        "car_model_tf.save('/content/gdrive/MyDrive/Greenix/car_model.h5')"
      ],
      "metadata": {
        "id": "04YmkV4mJeTx"
      },
      "id": "04YmkV4mJeTx",
      "execution_count": null,
      "outputs": []
    },
    {
      "cell_type": "code",
      "source": [
        "import tensorflow as tf\n",
        "from tensorflow.keras.models import load_model\n",
        "\n",
        "# Load the saved model.\n",
        "model = load_model('/content/gdrive/MyDrive/Greenix/car_model.h5')\n",
        "\n",
        "# Convert the model to TFLite.\n",
        "converter = tf.lite.TFLiteConverter.from_keras_model(model)\n",
        "tflite_model = converter.convert()\n",
        "\n",
        "# Save the TFLite model.\n",
        "with open('car_model.tflite', 'wb') as f:\n",
        "    f.write(tflite_model)\n",
        "\n",
        "car_model_tf.save('/content/gdrive/MyDrive/Greenix/car_model.tflite')"
      ],
      "metadata": {
        "id": "vgrQg0wfaWkx"
      },
      "id": "vgrQg0wfaWkx",
      "execution_count": null,
      "outputs": []
    },
    {
      "cell_type": "code",
      "source": [],
      "metadata": {
        "id": "4HohuT3daqyJ"
      },
      "id": "4HohuT3daqyJ",
      "execution_count": null,
      "outputs": []
    },
    {
      "cell_type": "code",
      "source": [
        "from tensorflow.keras.models import load_model\n",
        "\n",
        "# Load model\n",
        "car_model = load_model('/content/gdrive/MyDrive/Greenix/car_model.h5')"
      ],
      "metadata": {
        "id": "nXurBxPUT9YJ"
      },
      "id": "nXurBxPUT9YJ",
      "execution_count": null,
      "outputs": []
    },
    {
      "cell_type": "code",
      "execution_count": null,
      "metadata": {
        "id": "ngMyLnKKgSRH",
        "colab": {
          "base_uri": "https://localhost:8080/",
          "height": 468
        },
        "outputId": "ad475757-7bab-434a-ce03-1727a35e3cd3"
      },
      "outputs": [
        {
          "output_type": "stream",
          "name": "stderr",
          "text": [
            "/usr/local/lib/python3.10/dist-packages/sklearn/base.py:439: UserWarning: X does not have valid feature names, but StandardScaler was fitted with feature names\n",
            "  warnings.warn(\n"
          ]
        },
        {
          "output_type": "error",
          "ename": "ValueError",
          "evalue": "ignored",
          "traceback": [
            "\u001b[0;31m---------------------------------------------------------------------------\u001b[0m",
            "\u001b[0;31mValueError\u001b[0m                                Traceback (most recent call last)",
            "\u001b[0;32m<ipython-input-107-6d4a3029143b>\u001b[0m in \u001b[0;36m<cell line: 13>\u001b[0;34m()\u001b[0m\n\u001b[1;32m     11\u001b[0m \u001b[0;31m# Scale the new data\u001b[0m\u001b[0;34m\u001b[0m\u001b[0;34m\u001b[0m\u001b[0m\n\u001b[1;32m     12\u001b[0m \u001b[0mnew_data\u001b[0m \u001b[0;34m=\u001b[0m \u001b[0mtf\u001b[0m\u001b[0;34m.\u001b[0m\u001b[0mconvert_to_tensor\u001b[0m\u001b[0;34m(\u001b[0m\u001b[0;34m[\u001b[0m\u001b[0mdistance\u001b[0m\u001b[0;34m,\u001b[0m \u001b[0mfuel_consumption\u001b[0m\u001b[0;34m]\u001b[0m\u001b[0;34m)\u001b[0m\u001b[0;34m\u001b[0m\u001b[0;34m\u001b[0m\u001b[0m\n\u001b[0;32m---> 13\u001b[0;31m \u001b[0mnew_data_scaled\u001b[0m \u001b[0;34m=\u001b[0m \u001b[0mscaler\u001b[0m\u001b[0;34m.\u001b[0m\u001b[0mtransform\u001b[0m\u001b[0;34m(\u001b[0m\u001b[0mnew_data\u001b[0m\u001b[0;34m)\u001b[0m\u001b[0;34m\u001b[0m\u001b[0;34m\u001b[0m\u001b[0m\n\u001b[0m\u001b[1;32m     14\u001b[0m \u001b[0;34m\u001b[0m\u001b[0m\n\u001b[1;32m     15\u001b[0m \u001b[0;31m# Reshape the new data\u001b[0m\u001b[0;34m\u001b[0m\u001b[0;34m\u001b[0m\u001b[0m\n",
            "\u001b[0;32m/usr/local/lib/python3.10/dist-packages/sklearn/utils/_set_output.py\u001b[0m in \u001b[0;36mwrapped\u001b[0;34m(self, X, *args, **kwargs)\u001b[0m\n\u001b[1;32m    138\u001b[0m     \u001b[0;34m@\u001b[0m\u001b[0mwraps\u001b[0m\u001b[0;34m(\u001b[0m\u001b[0mf\u001b[0m\u001b[0;34m)\u001b[0m\u001b[0;34m\u001b[0m\u001b[0;34m\u001b[0m\u001b[0m\n\u001b[1;32m    139\u001b[0m     \u001b[0;32mdef\u001b[0m \u001b[0mwrapped\u001b[0m\u001b[0;34m(\u001b[0m\u001b[0mself\u001b[0m\u001b[0;34m,\u001b[0m \u001b[0mX\u001b[0m\u001b[0;34m,\u001b[0m \u001b[0;34m*\u001b[0m\u001b[0margs\u001b[0m\u001b[0;34m,\u001b[0m \u001b[0;34m**\u001b[0m\u001b[0mkwargs\u001b[0m\u001b[0;34m)\u001b[0m\u001b[0;34m:\u001b[0m\u001b[0;34m\u001b[0m\u001b[0;34m\u001b[0m\u001b[0m\n\u001b[0;32m--> 140\u001b[0;31m         \u001b[0mdata_to_wrap\u001b[0m \u001b[0;34m=\u001b[0m \u001b[0mf\u001b[0m\u001b[0;34m(\u001b[0m\u001b[0mself\u001b[0m\u001b[0;34m,\u001b[0m \u001b[0mX\u001b[0m\u001b[0;34m,\u001b[0m \u001b[0;34m*\u001b[0m\u001b[0margs\u001b[0m\u001b[0;34m,\u001b[0m \u001b[0;34m**\u001b[0m\u001b[0mkwargs\u001b[0m\u001b[0;34m)\u001b[0m\u001b[0;34m\u001b[0m\u001b[0;34m\u001b[0m\u001b[0m\n\u001b[0m\u001b[1;32m    141\u001b[0m         \u001b[0;32mif\u001b[0m \u001b[0misinstance\u001b[0m\u001b[0;34m(\u001b[0m\u001b[0mdata_to_wrap\u001b[0m\u001b[0;34m,\u001b[0m \u001b[0mtuple\u001b[0m\u001b[0;34m)\u001b[0m\u001b[0;34m:\u001b[0m\u001b[0;34m\u001b[0m\u001b[0;34m\u001b[0m\u001b[0m\n\u001b[1;32m    142\u001b[0m             \u001b[0;31m# only wrap the first output for cross decomposition\u001b[0m\u001b[0;34m\u001b[0m\u001b[0;34m\u001b[0m\u001b[0m\n",
            "\u001b[0;32m/usr/local/lib/python3.10/dist-packages/sklearn/preprocessing/_data.py\u001b[0m in \u001b[0;36mtransform\u001b[0;34m(self, X, copy)\u001b[0m\n\u001b[1;32m    990\u001b[0m \u001b[0;34m\u001b[0m\u001b[0m\n\u001b[1;32m    991\u001b[0m         \u001b[0mcopy\u001b[0m \u001b[0;34m=\u001b[0m \u001b[0mcopy\u001b[0m \u001b[0;32mif\u001b[0m \u001b[0mcopy\u001b[0m \u001b[0;32mis\u001b[0m \u001b[0;32mnot\u001b[0m \u001b[0;32mNone\u001b[0m \u001b[0;32melse\u001b[0m \u001b[0mself\u001b[0m\u001b[0;34m.\u001b[0m\u001b[0mcopy\u001b[0m\u001b[0;34m\u001b[0m\u001b[0;34m\u001b[0m\u001b[0m\n\u001b[0;32m--> 992\u001b[0;31m         X = self._validate_data(\n\u001b[0m\u001b[1;32m    993\u001b[0m             \u001b[0mX\u001b[0m\u001b[0;34m,\u001b[0m\u001b[0;34m\u001b[0m\u001b[0;34m\u001b[0m\u001b[0m\n\u001b[1;32m    994\u001b[0m             \u001b[0mreset\u001b[0m\u001b[0;34m=\u001b[0m\u001b[0;32mFalse\u001b[0m\u001b[0;34m,\u001b[0m\u001b[0;34m\u001b[0m\u001b[0;34m\u001b[0m\u001b[0m\n",
            "\u001b[0;32m/usr/local/lib/python3.10/dist-packages/sklearn/base.py\u001b[0m in \u001b[0;36m_validate_data\u001b[0;34m(self, X, y, reset, validate_separately, **check_params)\u001b[0m\n\u001b[1;32m    563\u001b[0m             \u001b[0;32mraise\u001b[0m \u001b[0mValueError\u001b[0m\u001b[0;34m(\u001b[0m\u001b[0;34m\"Validation should be done on X, y or both.\"\u001b[0m\u001b[0;34m)\u001b[0m\u001b[0;34m\u001b[0m\u001b[0;34m\u001b[0m\u001b[0m\n\u001b[1;32m    564\u001b[0m         \u001b[0;32melif\u001b[0m \u001b[0;32mnot\u001b[0m \u001b[0mno_val_X\u001b[0m \u001b[0;32mand\u001b[0m \u001b[0mno_val_y\u001b[0m\u001b[0;34m:\u001b[0m\u001b[0;34m\u001b[0m\u001b[0;34m\u001b[0m\u001b[0m\n\u001b[0;32m--> 565\u001b[0;31m             \u001b[0mX\u001b[0m \u001b[0;34m=\u001b[0m \u001b[0mcheck_array\u001b[0m\u001b[0;34m(\u001b[0m\u001b[0mX\u001b[0m\u001b[0;34m,\u001b[0m \u001b[0minput_name\u001b[0m\u001b[0;34m=\u001b[0m\u001b[0;34m\"X\"\u001b[0m\u001b[0;34m,\u001b[0m \u001b[0;34m**\u001b[0m\u001b[0mcheck_params\u001b[0m\u001b[0;34m)\u001b[0m\u001b[0;34m\u001b[0m\u001b[0;34m\u001b[0m\u001b[0m\n\u001b[0m\u001b[1;32m    566\u001b[0m             \u001b[0mout\u001b[0m \u001b[0;34m=\u001b[0m \u001b[0mX\u001b[0m\u001b[0;34m\u001b[0m\u001b[0;34m\u001b[0m\u001b[0m\n\u001b[1;32m    567\u001b[0m         \u001b[0;32melif\u001b[0m \u001b[0mno_val_X\u001b[0m \u001b[0;32mand\u001b[0m \u001b[0;32mnot\u001b[0m \u001b[0mno_val_y\u001b[0m\u001b[0;34m:\u001b[0m\u001b[0;34m\u001b[0m\u001b[0;34m\u001b[0m\u001b[0m\n",
            "\u001b[0;32m/usr/local/lib/python3.10/dist-packages/sklearn/utils/validation.py\u001b[0m in \u001b[0;36mcheck_array\u001b[0;34m(array, accept_sparse, accept_large_sparse, dtype, order, copy, force_all_finite, ensure_2d, allow_nd, ensure_min_samples, ensure_min_features, estimator, input_name)\u001b[0m\n\u001b[1;32m    900\u001b[0m             \u001b[0;31m# If input is 1D raise error\u001b[0m\u001b[0;34m\u001b[0m\u001b[0;34m\u001b[0m\u001b[0m\n\u001b[1;32m    901\u001b[0m             \u001b[0;32mif\u001b[0m \u001b[0marray\u001b[0m\u001b[0;34m.\u001b[0m\u001b[0mndim\u001b[0m \u001b[0;34m==\u001b[0m \u001b[0;36m1\u001b[0m\u001b[0;34m:\u001b[0m\u001b[0;34m\u001b[0m\u001b[0;34m\u001b[0m\u001b[0m\n\u001b[0;32m--> 902\u001b[0;31m                 raise ValueError(\n\u001b[0m\u001b[1;32m    903\u001b[0m                     \u001b[0;34m\"Expected 2D array, got 1D array instead:\\narray={}.\\n\"\u001b[0m\u001b[0;34m\u001b[0m\u001b[0;34m\u001b[0m\u001b[0m\n\u001b[1;32m    904\u001b[0m                     \u001b[0;34m\"Reshape your data either using array.reshape(-1, 1) if \"\u001b[0m\u001b[0;34m\u001b[0m\u001b[0;34m\u001b[0m\u001b[0m\n",
            "\u001b[0;31mValueError\u001b[0m: Expected 2D array, got 1D array instead:\narray=[100.   5.].\nReshape your data either using array.reshape(-1, 1) if your data has a single feature or array.reshape(1, -1) if it contains a single sample."
          ]
        }
      ],
      "source": [
        "import tensorflow as tf\n",
        "from sklearn.metrics import mean_squared_error, r2_score\n",
        "\n",
        "# Load the model\n",
        "model = tf.keras.models.load_model('/content/gdrive/MyDrive/Greenix/car_model.h5')\n",
        "\n",
        "# Define the new data\n",
        "distance = 100\n",
        "fuel_consumption = 5\n",
        "\n",
        "# Scale the new data\n",
        "new_data = tf.convert_to_tensor([distance, fuel_consumption])\n",
        "new_data_scaled = scaler.transform(new_data)\n",
        "\n",
        "# Reshape the new data\n",
        "new_data_scaled = new_data_scaled.reshape(1, -1)\n",
        "\n",
        "# Make a prediction\n",
        "prediction = model.predict(new_data_scaled)\n",
        "\n",
        "# Print the prediction\n",
        "print(\"The predicted fuel consumption is:\", prediction[0])"
      ],
      "id": "ngMyLnKKgSRH"
    },
    {
      "cell_type": "code",
      "execution_count": null,
      "metadata": {
        "id": "YYBFT6zug8AY"
      },
      "outputs": [],
      "source": [],
      "id": "YYBFT6zug8AY"
    }
  ],
  "metadata": {
    "colab": {
      "provenance": [],
      "include_colab_link": true
    },
    "kernelspec": {
      "display_name": "Python 3 (ipykernel)",
      "language": "python",
      "name": "python3"
    },
    "language_info": {
      "codemirror_mode": {
        "name": "ipython",
        "version": 3
      },
      "file_extension": ".py",
      "mimetype": "text/x-python",
      "name": "python",
      "nbconvert_exporter": "python",
      "pygments_lexer": "ipython3",
      "version": "3.9.7"
    }
  },
  "nbformat": 4,
  "nbformat_minor": 5
}