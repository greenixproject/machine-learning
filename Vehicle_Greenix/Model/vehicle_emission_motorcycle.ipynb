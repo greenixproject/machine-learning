{
  "cells": [
    {
      "cell_type": "markdown",
      "metadata": {
        "id": "view-in-github",
        "colab_type": "text"
      },
      "source": [
        "<a href=\"https://colab.research.google.com/github/greenixproject/machine-learning/blob/main/Vehicle_Greenix/Model/vehicle_emission_motorcycle.ipynb\" target=\"_parent\"><img src=\"https://colab.research.google.com/assets/colab-badge.svg\" alt=\"Open In Colab\"/></a>"
      ]
    },
    {
      "cell_type": "markdown",
      "metadata": {
        "id": "eb59f57a-145c-4291-9810-7991d64a2693"
      },
      "source": [
        "EMISI CARBON (CO2) FOOTPRINT VEHICLE MOTORCYCLE\n",
        "1. Emisi karbon banyak terutama dari aktivitas sehari-hari salah satunya adalah dari penggunaan kendaraan bermotor salah satunya yaitu motor. \n",
        "2. Awareness masyarakat masih kurang tentang karbon yang dapat dihasilkan\n",
        "3. Dari permasalahan tersebut, pada project kali ini kami akan membuat prediksi emisi karbon yang dihasilkan dari kendaraan bermotor\n",
        "4. Data yang kami gunakan diambil dan dikumpulkan dari survei kepada responden, jurnal dan website lainnya\n"
      ],
      "id": "eb59f57a-145c-4291-9810-7991d64a2693"
    },
    {
      "cell_type": "code",
      "execution_count": null,
      "metadata": {
        "colab": {
          "base_uri": "https://localhost:8080/"
        },
        "id": "14727ac1-1e7d-4eac-a06c-3fd181e00dbb",
        "outputId": "fe4730cb-f879-45f5-8f34-058e9744c093"
      },
      "outputs": [
        {
          "output_type": "stream",
          "name": "stdout",
          "text": [
            "Looking in indexes: https://pypi.org/simple, https://us-python.pkg.dev/colab-wheels/public/simple/\n",
            "Collecting tensorflow==2.8.0\n",
            "  Downloading tensorflow-2.8.0-cp310-cp310-manylinux2010_x86_64.whl (497.6 MB)\n",
            "\u001b[2K     \u001b[90m━━━━━━━━━━━━━━━━━━━━━━━━━━━━━━━━━━━━━━━\u001b[0m \u001b[32m497.6/497.6 MB\u001b[0m \u001b[31m2.3 MB/s\u001b[0m eta \u001b[36m0:00:00\u001b[0m\n",
            "\u001b[?25hRequirement already satisfied: absl-py>=0.4.0 in /usr/local/lib/python3.10/dist-packages (from tensorflow==2.8.0) (1.4.0)\n",
            "Requirement already satisfied: astunparse>=1.6.0 in /usr/local/lib/python3.10/dist-packages (from tensorflow==2.8.0) (1.6.3)\n",
            "Requirement already satisfied: flatbuffers>=1.12 in /usr/local/lib/python3.10/dist-packages (from tensorflow==2.8.0) (23.3.3)\n",
            "Requirement already satisfied: gast>=0.2.1 in /usr/local/lib/python3.10/dist-packages (from tensorflow==2.8.0) (0.4.0)\n",
            "Requirement already satisfied: google-pasta>=0.1.1 in /usr/local/lib/python3.10/dist-packages (from tensorflow==2.8.0) (0.2.0)\n",
            "Requirement already satisfied: h5py>=2.9.0 in /usr/local/lib/python3.10/dist-packages (from tensorflow==2.8.0) (3.8.0)\n",
            "Collecting keras-preprocessing>=1.1.1 (from tensorflow==2.8.0)\n",
            "  Downloading Keras_Preprocessing-1.1.2-py2.py3-none-any.whl (42 kB)\n",
            "\u001b[2K     \u001b[90m━━━━━━━━━━━━━━━━━━━━━━━━━━━━━━━━━━━━━━━━\u001b[0m \u001b[32m42.6/42.6 kB\u001b[0m \u001b[31m4.2 MB/s\u001b[0m eta \u001b[36m0:00:00\u001b[0m\n",
            "\u001b[?25hRequirement already satisfied: libclang>=9.0.1 in /usr/local/lib/python3.10/dist-packages (from tensorflow==2.8.0) (16.0.0)\n",
            "Requirement already satisfied: numpy>=1.20 in /usr/local/lib/python3.10/dist-packages (from tensorflow==2.8.0) (1.22.4)\n",
            "Requirement already satisfied: opt-einsum>=2.3.2 in /usr/local/lib/python3.10/dist-packages (from tensorflow==2.8.0) (3.3.0)\n",
            "Requirement already satisfied: protobuf>=3.9.2 in /usr/local/lib/python3.10/dist-packages (from tensorflow==2.8.0) (3.20.3)\n",
            "Requirement already satisfied: setuptools in /usr/local/lib/python3.10/dist-packages (from tensorflow==2.8.0) (67.7.2)\n",
            "Requirement already satisfied: six>=1.12.0 in /usr/local/lib/python3.10/dist-packages (from tensorflow==2.8.0) (1.16.0)\n",
            "Requirement already satisfied: termcolor>=1.1.0 in /usr/local/lib/python3.10/dist-packages (from tensorflow==2.8.0) (2.3.0)\n",
            "Requirement already satisfied: typing-extensions>=3.6.6 in /usr/local/lib/python3.10/dist-packages (from tensorflow==2.8.0) (4.5.0)\n",
            "Requirement already satisfied: wrapt>=1.11.0 in /usr/local/lib/python3.10/dist-packages (from tensorflow==2.8.0) (1.14.1)\n",
            "Collecting tensorboard<2.9,>=2.8 (from tensorflow==2.8.0)\n",
            "  Downloading tensorboard-2.8.0-py3-none-any.whl (5.8 MB)\n",
            "\u001b[2K     \u001b[90m━━━━━━━━━━━━━━━━━━━━━━━━━━━━━━━━━━━━━━━━\u001b[0m \u001b[32m5.8/5.8 MB\u001b[0m \u001b[31m48.8 MB/s\u001b[0m eta \u001b[36m0:00:00\u001b[0m\n",
            "\u001b[?25hCollecting tf-estimator-nightly==2.8.0.dev2021122109 (from tensorflow==2.8.0)\n",
            "  Downloading tf_estimator_nightly-2.8.0.dev2021122109-py2.py3-none-any.whl (462 kB)\n",
            "\u001b[2K     \u001b[90m━━━━━━━━━━━━━━━━━━━━━━━━━━━━━━━━━━━━━━\u001b[0m \u001b[32m462.5/462.5 kB\u001b[0m \u001b[31m32.9 MB/s\u001b[0m eta \u001b[36m0:00:00\u001b[0m\n",
            "\u001b[?25hCollecting keras<2.9,>=2.8.0rc0 (from tensorflow==2.8.0)\n",
            "  Downloading keras-2.8.0-py2.py3-none-any.whl (1.4 MB)\n",
            "\u001b[2K     \u001b[90m━━━━━━━━━━━━━━━━━━━━━━━━━━━━━━━━━━━━━━━━\u001b[0m \u001b[32m1.4/1.4 MB\u001b[0m \u001b[31m55.3 MB/s\u001b[0m eta \u001b[36m0:00:00\u001b[0m\n",
            "\u001b[?25hRequirement already satisfied: tensorflow-io-gcs-filesystem>=0.23.1 in /usr/local/lib/python3.10/dist-packages (from tensorflow==2.8.0) (0.32.0)\n",
            "Requirement already satisfied: grpcio<2.0,>=1.24.3 in /usr/local/lib/python3.10/dist-packages (from tensorflow==2.8.0) (1.54.0)\n",
            "Requirement already satisfied: wheel<1.0,>=0.23.0 in /usr/local/lib/python3.10/dist-packages (from astunparse>=1.6.0->tensorflow==2.8.0) (0.40.0)\n",
            "Requirement already satisfied: google-auth<3,>=1.6.3 in /usr/local/lib/python3.10/dist-packages (from tensorboard<2.9,>=2.8->tensorflow==2.8.0) (2.17.3)\n",
            "Collecting google-auth-oauthlib<0.5,>=0.4.1 (from tensorboard<2.9,>=2.8->tensorflow==2.8.0)\n",
            "  Downloading google_auth_oauthlib-0.4.6-py2.py3-none-any.whl (18 kB)\n",
            "Requirement already satisfied: markdown>=2.6.8 in /usr/local/lib/python3.10/dist-packages (from tensorboard<2.9,>=2.8->tensorflow==2.8.0) (3.4.3)\n",
            "Requirement already satisfied: requests<3,>=2.21.0 in /usr/local/lib/python3.10/dist-packages (from tensorboard<2.9,>=2.8->tensorflow==2.8.0) (2.27.1)\n",
            "Collecting tensorboard-data-server<0.7.0,>=0.6.0 (from tensorboard<2.9,>=2.8->tensorflow==2.8.0)\n",
            "  Downloading tensorboard_data_server-0.6.1-py3-none-manylinux2010_x86_64.whl (4.9 MB)\n",
            "\u001b[2K     \u001b[90m━━━━━━━━━━━━━━━━━━━━━━━━━━━━━━━━━━━━━━━━\u001b[0m \u001b[32m4.9/4.9 MB\u001b[0m \u001b[31m33.7 MB/s\u001b[0m eta \u001b[36m0:00:00\u001b[0m\n",
            "\u001b[?25hRequirement already satisfied: tensorboard-plugin-wit>=1.6.0 in /usr/local/lib/python3.10/dist-packages (from tensorboard<2.9,>=2.8->tensorflow==2.8.0) (1.8.1)\n",
            "Requirement already satisfied: werkzeug>=0.11.15 in /usr/local/lib/python3.10/dist-packages (from tensorboard<2.9,>=2.8->tensorflow==2.8.0) (2.3.0)\n",
            "Requirement already satisfied: cachetools<6.0,>=2.0.0 in /usr/local/lib/python3.10/dist-packages (from google-auth<3,>=1.6.3->tensorboard<2.9,>=2.8->tensorflow==2.8.0) (5.3.0)\n",
            "Requirement already satisfied: pyasn1-modules>=0.2.1 in /usr/local/lib/python3.10/dist-packages (from google-auth<3,>=1.6.3->tensorboard<2.9,>=2.8->tensorflow==2.8.0) (0.3.0)\n",
            "Requirement already satisfied: rsa<5,>=3.1.4 in /usr/local/lib/python3.10/dist-packages (from google-auth<3,>=1.6.3->tensorboard<2.9,>=2.8->tensorflow==2.8.0) (4.9)\n",
            "Requirement already satisfied: requests-oauthlib>=0.7.0 in /usr/local/lib/python3.10/dist-packages (from google-auth-oauthlib<0.5,>=0.4.1->tensorboard<2.9,>=2.8->tensorflow==2.8.0) (1.3.1)\n",
            "Requirement already satisfied: urllib3<1.27,>=1.21.1 in /usr/local/lib/python3.10/dist-packages (from requests<3,>=2.21.0->tensorboard<2.9,>=2.8->tensorflow==2.8.0) (1.26.15)\n",
            "Requirement already satisfied: certifi>=2017.4.17 in /usr/local/lib/python3.10/dist-packages (from requests<3,>=2.21.0->tensorboard<2.9,>=2.8->tensorflow==2.8.0) (2022.12.7)\n",
            "Requirement already satisfied: charset-normalizer~=2.0.0 in /usr/local/lib/python3.10/dist-packages (from requests<3,>=2.21.0->tensorboard<2.9,>=2.8->tensorflow==2.8.0) (2.0.12)\n",
            "Requirement already satisfied: idna<4,>=2.5 in /usr/local/lib/python3.10/dist-packages (from requests<3,>=2.21.0->tensorboard<2.9,>=2.8->tensorflow==2.8.0) (3.4)\n",
            "Requirement already satisfied: MarkupSafe>=2.1.1 in /usr/local/lib/python3.10/dist-packages (from werkzeug>=0.11.15->tensorboard<2.9,>=2.8->tensorflow==2.8.0) (2.1.2)\n",
            "Requirement already satisfied: pyasn1<0.6.0,>=0.4.6 in /usr/local/lib/python3.10/dist-packages (from pyasn1-modules>=0.2.1->google-auth<3,>=1.6.3->tensorboard<2.9,>=2.8->tensorflow==2.8.0) (0.5.0)\n",
            "Requirement already satisfied: oauthlib>=3.0.0 in /usr/local/lib/python3.10/dist-packages (from requests-oauthlib>=0.7.0->google-auth-oauthlib<0.5,>=0.4.1->tensorboard<2.9,>=2.8->tensorflow==2.8.0) (3.2.2)\n",
            "Installing collected packages: tf-estimator-nightly, keras, tensorboard-data-server, keras-preprocessing, google-auth-oauthlib, tensorboard, tensorflow\n",
            "  Attempting uninstall: keras\n",
            "    Found existing installation: keras 2.12.0\n",
            "    Uninstalling keras-2.12.0:\n",
            "      Successfully uninstalled keras-2.12.0\n",
            "  Attempting uninstall: tensorboard-data-server\n",
            "    Found existing installation: tensorboard-data-server 0.7.0\n",
            "    Uninstalling tensorboard-data-server-0.7.0:\n",
            "      Successfully uninstalled tensorboard-data-server-0.7.0\n",
            "  Attempting uninstall: google-auth-oauthlib\n",
            "    Found existing installation: google-auth-oauthlib 1.0.0\n",
            "    Uninstalling google-auth-oauthlib-1.0.0:\n",
            "      Successfully uninstalled google-auth-oauthlib-1.0.0\n",
            "  Attempting uninstall: tensorboard\n",
            "    Found existing installation: tensorboard 2.12.2\n",
            "    Uninstalling tensorboard-2.12.2:\n",
            "      Successfully uninstalled tensorboard-2.12.2\n",
            "  Attempting uninstall: tensorflow\n",
            "    Found existing installation: tensorflow 2.12.0\n",
            "    Uninstalling tensorflow-2.12.0:\n",
            "      Successfully uninstalled tensorflow-2.12.0\n",
            "Successfully installed google-auth-oauthlib-0.4.6 keras-2.8.0 keras-preprocessing-1.1.2 tensorboard-2.8.0 tensorboard-data-server-0.6.1 tensorflow-2.8.0 tf-estimator-nightly-2.8.0.dev2021122109\n"
          ]
        }
      ],
      "source": [
        "!pip install tensorflow==2.8.0"
      ],
      "id": "14727ac1-1e7d-4eac-a06c-3fd181e00dbb"
    },
    {
      "cell_type": "code",
      "execution_count": null,
      "metadata": {
        "id": "f60946c7-8a76-4210-99eb-204fd22ad578"
      },
      "outputs": [],
      "source": [
        "# Import library\n",
        "import pandas as pd\n",
        "import numpy as np\n",
        "from scipy import stats\n",
        "\n",
        "from sklearn import linear_model\n",
        "from sklearn.model_selection import train_test_split\n",
        "from sklearn.linear_model import LinearRegression\n",
        "from sklearn.metrics import mean_squared_error, r2_score\n",
        "from sklearn.preprocessing import StandardScaler\n",
        "from sklearn.metrics import mean_squared_error\n",
        "\n",
        "import tensorflow as tf\n",
        "from tensorflow.keras.models import Sequential\n",
        "from tensorflow.keras.layers import Dense\n",
        "from tensorflow.keras.models import save_model\n",
        "\n",
        "import matplotlib.pyplot as plt\n",
        "import seaborn as sns"
      ],
      "id": "f60946c7-8a76-4210-99eb-204fd22ad578"
    },
    {
      "cell_type": "code",
      "execution_count": null,
      "metadata": {
        "colab": {
          "base_uri": "https://localhost:8080/"
        },
        "id": "dy441P_y0t4b",
        "outputId": "03de4dbb-9953-41cd-f24e-5ce0fc14d050"
      },
      "outputs": [
        {
          "output_type": "stream",
          "name": "stdout",
          "text": [
            "Mounted at /content/drive\n"
          ]
        }
      ],
      "source": [
        "from google.colab import drive\n",
        "drive.mount('/content/drive', force_remount=True)"
      ],
      "id": "dy441P_y0t4b"
    },
    {
      "cell_type": "markdown",
      "metadata": {
        "id": "NJcTypnnU7wM"
      },
      "source": [
        "## Load Data"
      ],
      "id": "NJcTypnnU7wM"
    },
    {
      "cell_type": "code",
      "execution_count": null,
      "metadata": {
        "colab": {
          "base_uri": "https://localhost:8080/"
        },
        "id": "OhO6QUF9b29L",
        "outputId": "0f4b06cb-f26e-487a-d039-9c609a53e9cd"
      },
      "outputs": [
        {
          "output_type": "stream",
          "name": "stdout",
          "text": [
            "   no       nama                        email motor_class motor_subclass  \\\n",
            "0   1   Johan **        *******i706@gmail.com      110_CC        Injeksi   \n",
            "1   2    David *       *********@***pcr.ac.id      110_CC        Injeksi   \n",
            "2   3  Nyimas **       *******firaa@gmail.com      110_CC        Injeksi   \n",
            "3   4  Marani **      *******amelin@gmail.com      110_CC        Injeksi   \n",
            "4   5  Zahra ***  *******etaputri10@gmail.com      110_CC        Injeksi   \n",
            "\n",
            "  fuel_type  fuel_consumption(L/100Km)  emission_factor  distanced  emissions  \n",
            "0    Petrol                       1.85           0.0342         43     1.5350  \n",
            "1    Petrol                       1.85           0.0342         64     2.2537  \n",
            "2    Petrol                       1.85           0.0342          9     0.3713  \n",
            "3    Petrol                       1.85           0.0342         38     1.3639  \n",
            "4    Petrol                       1.85           0.0342         74     2.5960  \n"
          ]
        }
      ],
      "source": [
        "# Menentukan path file CSV yang telah diunggah\n",
        "file_path = '/content/drive/MyDrive/Vehicle_Greenix/Dataset/vehicle_motor.csv'\n",
        "\n",
        "# Membaca file CSV ke DataFrame\n",
        "df = pd.read_csv(file_path)\n",
        "\n",
        "# Menampilkan beberapa baris pertama DataFrame\n",
        "print(df.head())"
      ],
      "id": "OhO6QUF9b29L"
    },
    {
      "cell_type": "markdown",
      "metadata": {
        "id": "ZImOZswUVKP9"
      },
      "source": [
        "Keterangan kolom:\n",
        "- nomer: Nomor urut responden\n",
        "- nama: Nama responden\n",
        "- email: Email responden\n",
        "- motor_class : Pembagian Jenis-jenis motor berdasarkan cc motor dimana dibagi 4 jenis yaitu 110_cc, 125_cc, 1150_cc, 250_cc\n",
        "- motor_subclass : Pembagian Jenis pembakaran bahan bakar pada mesin yang terbagi menjadi 2 jenis yaitu injeksi dan karburator\n",
        "- fuel_type : Pembagian Jenis bahan bakar yang biasanya digunakan pada motor di Indonesia yaitu Petrol (Premium, Pertalite, Pertamax, dan Sejenisnya).\n",
        "- fuel_consumption: Konsumsi bahan bakar setiap jenis motor dengan skala 1L / 100KM\n",
        "- emmisions_factor: Faktor emisi berdasarkan jenis bahan bakarnya\n",
        "- distanced: Jarak yang ditempuh oleh kendaraan dalam sekali perjalanan dengan satuan kilometer\n",
        "- emissions: Nilai emisi yang dihasilkan tiap kendaraan dengan formula \n",
        "emisi = ((jarak + konsumsi bahan bakar) * faktor emisi)"
      ],
      "id": "ZImOZswUVKP9"
    },
    {
      "cell_type": "markdown",
      "metadata": {
        "id": "65bbcbde-2bf0-4727-beaf-f55b9eddd8e5"
      },
      "source": [
        "## DATA CLEANING"
      ],
      "id": "65bbcbde-2bf0-4727-beaf-f55b9eddd8e5"
    },
    {
      "cell_type": "code",
      "execution_count": null,
      "metadata": {
        "colab": {
          "base_uri": "https://localhost:8080/"
        },
        "id": "FsEkZBFAVE0G",
        "outputId": "ce188358-5115-48af-8dc8-3bffc6c2ff9b"
      },
      "outputs": [
        {
          "output_type": "execute_result",
          "data": {
            "text/plain": [
              "0"
            ]
          },
          "metadata": {},
          "execution_count": 5
        }
      ],
      "source": [
        "# cek data duplikat\n",
        "df.duplicated().sum()"
      ],
      "id": "FsEkZBFAVE0G"
    },
    {
      "cell_type": "code",
      "execution_count": null,
      "metadata": {
        "id": "og-cB2x9VYhK"
      },
      "outputs": [],
      "source": [
        "# Membersihkan data yang tidak lengkap (Jika ada)\n",
        "df = df.dropna(axis=0)"
      ],
      "id": "og-cB2x9VYhK"
    },
    {
      "cell_type": "code",
      "execution_count": null,
      "metadata": {
        "id": "505f80a1-87a4-4fc9-90c2-557c04af2883"
      },
      "outputs": [],
      "source": [
        "df = df.drop(['no',\t'nama',\t'email', 'fuel_type'], axis=1)"
      ],
      "id": "505f80a1-87a4-4fc9-90c2-557c04af2883"
    },
    {
      "cell_type": "markdown",
      "metadata": {
        "id": "HHiwRPSTXZ9P"
      },
      "source": [
        "## Data Preprocessing"
      ],
      "id": "HHiwRPSTXZ9P"
    },
    {
      "cell_type": "code",
      "execution_count": null,
      "metadata": {
        "id": "SQmL1Z3AXZKN"
      },
      "outputs": [],
      "source": [
        "# Mengambil kolom numerik untuk perhitungan Z-score\n",
        "numeric_columns = ['fuel_consumption(L/100Km)',\t'emission_factor',\t'distanced',\t'emissions']"
      ],
      "id": "SQmL1Z3AXZKN"
    },
    {
      "cell_type": "code",
      "execution_count": null,
      "metadata": {
        "id": "ybDi2uB7XnRl"
      },
      "outputs": [],
      "source": [
        "# Mendeteksi outliers dengan Z-score\n",
        "z_scores = stats.zscore(df[numeric_columns])\n",
        "abs_z_scores = np.abs(z_scores)\n",
        "filtered_entries = (abs_z_scores < 3).all(axis=1)  \n",
        "# Menghilangkan data dengan Z-score lebih dari 3\n",
        "data = df[filtered_entries]"
      ],
      "id": "ybDi2uB7XnRl"
    },
    {
      "cell_type": "markdown",
      "metadata": {
        "id": "dqvCAuoWVS9H"
      },
      "source": [
        "## Eksplorasi Data"
      ],
      "id": "dqvCAuoWVS9H"
    },
    {
      "cell_type": "code",
      "execution_count": null,
      "metadata": {
        "colab": {
          "base_uri": "https://localhost:8080/",
          "height": 206
        },
        "id": "lNgAPXmbV8GK",
        "outputId": "71ac8bb4-3232-4cd1-acc6-e32147ce97ee"
      },
      "outputs": [
        {
          "output_type": "execute_result",
          "data": {
            "text/plain": [
              "  motor_class motor_subclass  fuel_consumption(L/100Km)  emission_factor  \\\n",
              "0      110_CC        Injeksi                       1.85           0.0342   \n",
              "1      110_CC        Injeksi                       1.85           0.0342   \n",
              "2      110_CC        Injeksi                       1.85           0.0342   \n",
              "3      110_CC        Injeksi                       1.85           0.0342   \n",
              "4      110_CC        Injeksi                       1.85           0.0342   \n",
              "\n",
              "   distanced  emissions  \n",
              "0         43     1.5350  \n",
              "1         64     2.2537  \n",
              "2          9     0.3713  \n",
              "3         38     1.3639  \n",
              "4         74     2.5960  "
            ],
            "text/html": [
              "\n",
              "  <div id=\"df-910b60cc-7dfd-4f67-bae7-dd578d201b9e\">\n",
              "    <div class=\"colab-df-container\">\n",
              "      <div>\n",
              "<style scoped>\n",
              "    .dataframe tbody tr th:only-of-type {\n",
              "        vertical-align: middle;\n",
              "    }\n",
              "\n",
              "    .dataframe tbody tr th {\n",
              "        vertical-align: top;\n",
              "    }\n",
              "\n",
              "    .dataframe thead th {\n",
              "        text-align: right;\n",
              "    }\n",
              "</style>\n",
              "<table border=\"1\" class=\"dataframe\">\n",
              "  <thead>\n",
              "    <tr style=\"text-align: right;\">\n",
              "      <th></th>\n",
              "      <th>motor_class</th>\n",
              "      <th>motor_subclass</th>\n",
              "      <th>fuel_consumption(L/100Km)</th>\n",
              "      <th>emission_factor</th>\n",
              "      <th>distanced</th>\n",
              "      <th>emissions</th>\n",
              "    </tr>\n",
              "  </thead>\n",
              "  <tbody>\n",
              "    <tr>\n",
              "      <th>0</th>\n",
              "      <td>110_CC</td>\n",
              "      <td>Injeksi</td>\n",
              "      <td>1.85</td>\n",
              "      <td>0.0342</td>\n",
              "      <td>43</td>\n",
              "      <td>1.5350</td>\n",
              "    </tr>\n",
              "    <tr>\n",
              "      <th>1</th>\n",
              "      <td>110_CC</td>\n",
              "      <td>Injeksi</td>\n",
              "      <td>1.85</td>\n",
              "      <td>0.0342</td>\n",
              "      <td>64</td>\n",
              "      <td>2.2537</td>\n",
              "    </tr>\n",
              "    <tr>\n",
              "      <th>2</th>\n",
              "      <td>110_CC</td>\n",
              "      <td>Injeksi</td>\n",
              "      <td>1.85</td>\n",
              "      <td>0.0342</td>\n",
              "      <td>9</td>\n",
              "      <td>0.3713</td>\n",
              "    </tr>\n",
              "    <tr>\n",
              "      <th>3</th>\n",
              "      <td>110_CC</td>\n",
              "      <td>Injeksi</td>\n",
              "      <td>1.85</td>\n",
              "      <td>0.0342</td>\n",
              "      <td>38</td>\n",
              "      <td>1.3639</td>\n",
              "    </tr>\n",
              "    <tr>\n",
              "      <th>4</th>\n",
              "      <td>110_CC</td>\n",
              "      <td>Injeksi</td>\n",
              "      <td>1.85</td>\n",
              "      <td>0.0342</td>\n",
              "      <td>74</td>\n",
              "      <td>2.5960</td>\n",
              "    </tr>\n",
              "  </tbody>\n",
              "</table>\n",
              "</div>\n",
              "      <button class=\"colab-df-convert\" onclick=\"convertToInteractive('df-910b60cc-7dfd-4f67-bae7-dd578d201b9e')\"\n",
              "              title=\"Convert this dataframe to an interactive table.\"\n",
              "              style=\"display:none;\">\n",
              "        \n",
              "  <svg xmlns=\"http://www.w3.org/2000/svg\" height=\"24px\"viewBox=\"0 0 24 24\"\n",
              "       width=\"24px\">\n",
              "    <path d=\"M0 0h24v24H0V0z\" fill=\"none\"/>\n",
              "    <path d=\"M18.56 5.44l.94 2.06.94-2.06 2.06-.94-2.06-.94-.94-2.06-.94 2.06-2.06.94zm-11 1L8.5 8.5l.94-2.06 2.06-.94-2.06-.94L8.5 2.5l-.94 2.06-2.06.94zm10 10l.94 2.06.94-2.06 2.06-.94-2.06-.94-.94-2.06-.94 2.06-2.06.94z\"/><path d=\"M17.41 7.96l-1.37-1.37c-.4-.4-.92-.59-1.43-.59-.52 0-1.04.2-1.43.59L10.3 9.45l-7.72 7.72c-.78.78-.78 2.05 0 2.83L4 21.41c.39.39.9.59 1.41.59.51 0 1.02-.2 1.41-.59l7.78-7.78 2.81-2.81c.8-.78.8-2.07 0-2.86zM5.41 20L4 18.59l7.72-7.72 1.47 1.35L5.41 20z\"/>\n",
              "  </svg>\n",
              "      </button>\n",
              "      \n",
              "  <style>\n",
              "    .colab-df-container {\n",
              "      display:flex;\n",
              "      flex-wrap:wrap;\n",
              "      gap: 12px;\n",
              "    }\n",
              "\n",
              "    .colab-df-convert {\n",
              "      background-color: #E8F0FE;\n",
              "      border: none;\n",
              "      border-radius: 50%;\n",
              "      cursor: pointer;\n",
              "      display: none;\n",
              "      fill: #1967D2;\n",
              "      height: 32px;\n",
              "      padding: 0 0 0 0;\n",
              "      width: 32px;\n",
              "    }\n",
              "\n",
              "    .colab-df-convert:hover {\n",
              "      background-color: #E2EBFA;\n",
              "      box-shadow: 0px 1px 2px rgba(60, 64, 67, 0.3), 0px 1px 3px 1px rgba(60, 64, 67, 0.15);\n",
              "      fill: #174EA6;\n",
              "    }\n",
              "\n",
              "    [theme=dark] .colab-df-convert {\n",
              "      background-color: #3B4455;\n",
              "      fill: #D2E3FC;\n",
              "    }\n",
              "\n",
              "    [theme=dark] .colab-df-convert:hover {\n",
              "      background-color: #434B5C;\n",
              "      box-shadow: 0px 1px 3px 1px rgba(0, 0, 0, 0.15);\n",
              "      filter: drop-shadow(0px 1px 2px rgba(0, 0, 0, 0.3));\n",
              "      fill: #FFFFFF;\n",
              "    }\n",
              "  </style>\n",
              "\n",
              "      <script>\n",
              "        const buttonEl =\n",
              "          document.querySelector('#df-910b60cc-7dfd-4f67-bae7-dd578d201b9e button.colab-df-convert');\n",
              "        buttonEl.style.display =\n",
              "          google.colab.kernel.accessAllowed ? 'block' : 'none';\n",
              "\n",
              "        async function convertToInteractive(key) {\n",
              "          const element = document.querySelector('#df-910b60cc-7dfd-4f67-bae7-dd578d201b9e');\n",
              "          const dataTable =\n",
              "            await google.colab.kernel.invokeFunction('convertToInteractive',\n",
              "                                                     [key], {});\n",
              "          if (!dataTable) return;\n",
              "\n",
              "          const docLinkHtml = 'Like what you see? Visit the ' +\n",
              "            '<a target=\"_blank\" href=https://colab.research.google.com/notebooks/data_table.ipynb>data table notebook</a>'\n",
              "            + ' to learn more about interactive tables.';\n",
              "          element.innerHTML = '';\n",
              "          dataTable['output_type'] = 'display_data';\n",
              "          await google.colab.output.renderOutput(dataTable, element);\n",
              "          const docLink = document.createElement('div');\n",
              "          docLink.innerHTML = docLinkHtml;\n",
              "          element.appendChild(docLink);\n",
              "        }\n",
              "      </script>\n",
              "    </div>\n",
              "  </div>\n",
              "  "
            ]
          },
          "metadata": {},
          "execution_count": 10
        }
      ],
      "source": [
        "df.head()"
      ],
      "id": "lNgAPXmbV8GK"
    },
    {
      "cell_type": "code",
      "execution_count": null,
      "metadata": {
        "colab": {
          "base_uri": "https://localhost:8080/"
        },
        "id": "Fogd8zdVWADJ",
        "outputId": "00c3c2d9-a336-4569-9032-271f2db86e30"
      },
      "outputs": [
        {
          "output_type": "execute_result",
          "data": {
            "text/plain": [
              "(651, 6)"
            ]
          },
          "metadata": {},
          "execution_count": 11
        }
      ],
      "source": [
        "# Melihat jumlah baris dan kolom\n",
        "df.shape"
      ],
      "id": "Fogd8zdVWADJ"
    },
    {
      "cell_type": "code",
      "execution_count": null,
      "metadata": {
        "colab": {
          "base_uri": "https://localhost:8080/",
          "height": 300
        },
        "id": "t7M3jsi9V8It",
        "outputId": "6d2c2e59-a12c-495c-c498-169ec0c9b1b4"
      },
      "outputs": [
        {
          "output_type": "execute_result",
          "data": {
            "text/plain": [
              "       fuel_consumption(L/100Km)  emission_factor   distanced   emissions\n",
              "count                 651.000000       651.000000  651.000000  651.000000\n",
              "mean                    2.935637         0.090645   51.299539    4.949751\n",
              "std                     0.669918         0.040326   28.981442    3.728508\n",
              "min                     1.850000         0.034200    1.000000    0.097500\n",
              "25%                     2.400000         0.057600   24.000000    2.176850\n",
              "50%                     2.800000         0.078400   52.000000    3.882200\n",
              "75%                     3.450000         0.119000   76.000000    7.027250\n",
              "max                     4.150000         0.172200  100.000000   17.420600"
            ],
            "text/html": [
              "\n",
              "  <div id=\"df-a1d142db-c338-40b4-86e2-8b9f4cf5f699\">\n",
              "    <div class=\"colab-df-container\">\n",
              "      <div>\n",
              "<style scoped>\n",
              "    .dataframe tbody tr th:only-of-type {\n",
              "        vertical-align: middle;\n",
              "    }\n",
              "\n",
              "    .dataframe tbody tr th {\n",
              "        vertical-align: top;\n",
              "    }\n",
              "\n",
              "    .dataframe thead th {\n",
              "        text-align: right;\n",
              "    }\n",
              "</style>\n",
              "<table border=\"1\" class=\"dataframe\">\n",
              "  <thead>\n",
              "    <tr style=\"text-align: right;\">\n",
              "      <th></th>\n",
              "      <th>fuel_consumption(L/100Km)</th>\n",
              "      <th>emission_factor</th>\n",
              "      <th>distanced</th>\n",
              "      <th>emissions</th>\n",
              "    </tr>\n",
              "  </thead>\n",
              "  <tbody>\n",
              "    <tr>\n",
              "      <th>count</th>\n",
              "      <td>651.000000</td>\n",
              "      <td>651.000000</td>\n",
              "      <td>651.000000</td>\n",
              "      <td>651.000000</td>\n",
              "    </tr>\n",
              "    <tr>\n",
              "      <th>mean</th>\n",
              "      <td>2.935637</td>\n",
              "      <td>0.090645</td>\n",
              "      <td>51.299539</td>\n",
              "      <td>4.949751</td>\n",
              "    </tr>\n",
              "    <tr>\n",
              "      <th>std</th>\n",
              "      <td>0.669918</td>\n",
              "      <td>0.040326</td>\n",
              "      <td>28.981442</td>\n",
              "      <td>3.728508</td>\n",
              "    </tr>\n",
              "    <tr>\n",
              "      <th>min</th>\n",
              "      <td>1.850000</td>\n",
              "      <td>0.034200</td>\n",
              "      <td>1.000000</td>\n",
              "      <td>0.097500</td>\n",
              "    </tr>\n",
              "    <tr>\n",
              "      <th>25%</th>\n",
              "      <td>2.400000</td>\n",
              "      <td>0.057600</td>\n",
              "      <td>24.000000</td>\n",
              "      <td>2.176850</td>\n",
              "    </tr>\n",
              "    <tr>\n",
              "      <th>50%</th>\n",
              "      <td>2.800000</td>\n",
              "      <td>0.078400</td>\n",
              "      <td>52.000000</td>\n",
              "      <td>3.882200</td>\n",
              "    </tr>\n",
              "    <tr>\n",
              "      <th>75%</th>\n",
              "      <td>3.450000</td>\n",
              "      <td>0.119000</td>\n",
              "      <td>76.000000</td>\n",
              "      <td>7.027250</td>\n",
              "    </tr>\n",
              "    <tr>\n",
              "      <th>max</th>\n",
              "      <td>4.150000</td>\n",
              "      <td>0.172200</td>\n",
              "      <td>100.000000</td>\n",
              "      <td>17.420600</td>\n",
              "    </tr>\n",
              "  </tbody>\n",
              "</table>\n",
              "</div>\n",
              "      <button class=\"colab-df-convert\" onclick=\"convertToInteractive('df-a1d142db-c338-40b4-86e2-8b9f4cf5f699')\"\n",
              "              title=\"Convert this dataframe to an interactive table.\"\n",
              "              style=\"display:none;\">\n",
              "        \n",
              "  <svg xmlns=\"http://www.w3.org/2000/svg\" height=\"24px\"viewBox=\"0 0 24 24\"\n",
              "       width=\"24px\">\n",
              "    <path d=\"M0 0h24v24H0V0z\" fill=\"none\"/>\n",
              "    <path d=\"M18.56 5.44l.94 2.06.94-2.06 2.06-.94-2.06-.94-.94-2.06-.94 2.06-2.06.94zm-11 1L8.5 8.5l.94-2.06 2.06-.94-2.06-.94L8.5 2.5l-.94 2.06-2.06.94zm10 10l.94 2.06.94-2.06 2.06-.94-2.06-.94-.94-2.06-.94 2.06-2.06.94z\"/><path d=\"M17.41 7.96l-1.37-1.37c-.4-.4-.92-.59-1.43-.59-.52 0-1.04.2-1.43.59L10.3 9.45l-7.72 7.72c-.78.78-.78 2.05 0 2.83L4 21.41c.39.39.9.59 1.41.59.51 0 1.02-.2 1.41-.59l7.78-7.78 2.81-2.81c.8-.78.8-2.07 0-2.86zM5.41 20L4 18.59l7.72-7.72 1.47 1.35L5.41 20z\"/>\n",
              "  </svg>\n",
              "      </button>\n",
              "      \n",
              "  <style>\n",
              "    .colab-df-container {\n",
              "      display:flex;\n",
              "      flex-wrap:wrap;\n",
              "      gap: 12px;\n",
              "    }\n",
              "\n",
              "    .colab-df-convert {\n",
              "      background-color: #E8F0FE;\n",
              "      border: none;\n",
              "      border-radius: 50%;\n",
              "      cursor: pointer;\n",
              "      display: none;\n",
              "      fill: #1967D2;\n",
              "      height: 32px;\n",
              "      padding: 0 0 0 0;\n",
              "      width: 32px;\n",
              "    }\n",
              "\n",
              "    .colab-df-convert:hover {\n",
              "      background-color: #E2EBFA;\n",
              "      box-shadow: 0px 1px 2px rgba(60, 64, 67, 0.3), 0px 1px 3px 1px rgba(60, 64, 67, 0.15);\n",
              "      fill: #174EA6;\n",
              "    }\n",
              "\n",
              "    [theme=dark] .colab-df-convert {\n",
              "      background-color: #3B4455;\n",
              "      fill: #D2E3FC;\n",
              "    }\n",
              "\n",
              "    [theme=dark] .colab-df-convert:hover {\n",
              "      background-color: #434B5C;\n",
              "      box-shadow: 0px 1px 3px 1px rgba(0, 0, 0, 0.15);\n",
              "      filter: drop-shadow(0px 1px 2px rgba(0, 0, 0, 0.3));\n",
              "      fill: #FFFFFF;\n",
              "    }\n",
              "  </style>\n",
              "\n",
              "      <script>\n",
              "        const buttonEl =\n",
              "          document.querySelector('#df-a1d142db-c338-40b4-86e2-8b9f4cf5f699 button.colab-df-convert');\n",
              "        buttonEl.style.display =\n",
              "          google.colab.kernel.accessAllowed ? 'block' : 'none';\n",
              "\n",
              "        async function convertToInteractive(key) {\n",
              "          const element = document.querySelector('#df-a1d142db-c338-40b4-86e2-8b9f4cf5f699');\n",
              "          const dataTable =\n",
              "            await google.colab.kernel.invokeFunction('convertToInteractive',\n",
              "                                                     [key], {});\n",
              "          if (!dataTable) return;\n",
              "\n",
              "          const docLinkHtml = 'Like what you see? Visit the ' +\n",
              "            '<a target=\"_blank\" href=https://colab.research.google.com/notebooks/data_table.ipynb>data table notebook</a>'\n",
              "            + ' to learn more about interactive tables.';\n",
              "          element.innerHTML = '';\n",
              "          dataTable['output_type'] = 'display_data';\n",
              "          await google.colab.output.renderOutput(dataTable, element);\n",
              "          const docLink = document.createElement('div');\n",
              "          docLink.innerHTML = docLinkHtml;\n",
              "          element.appendChild(docLink);\n",
              "        }\n",
              "      </script>\n",
              "    </div>\n",
              "  </div>\n",
              "  "
            ]
          },
          "metadata": {},
          "execution_count": 12
        }
      ],
      "source": [
        "# Melihat info statistik data\n",
        "df.describe()"
      ],
      "id": "t7M3jsi9V8It"
    },
    {
      "cell_type": "code",
      "execution_count": null,
      "metadata": {
        "colab": {
          "base_uri": "https://localhost:8080/"
        },
        "id": "8dd4387e-222b-4324-8c7e-50928af70300",
        "outputId": "d3f261cf-797c-468b-f6f2-ebc2efa03468"
      },
      "outputs": [
        {
          "output_type": "stream",
          "name": "stdout",
          "text": [
            "motor_class                   object\n",
            "motor_subclass                object\n",
            "fuel_consumption(L/100Km)    float64\n",
            "emission_factor              float64\n",
            "distanced                      int64\n",
            "emissions                    float64\n",
            "dtype: object\n"
          ]
        }
      ],
      "source": [
        "# Melihat tipe data\n",
        "print(df.dtypes)"
      ],
      "id": "8dd4387e-222b-4324-8c7e-50928af70300"
    },
    {
      "cell_type": "code",
      "execution_count": null,
      "metadata": {
        "colab": {
          "base_uri": "https://localhost:8080/"
        },
        "id": "ef91ebcc-8cd8-40e1-93f4-77ba533a90b3",
        "outputId": "e57f7304-f98a-4721-a88d-56d61fdf1f1a"
      },
      "outputs": [
        {
          "output_type": "execute_result",
          "data": {
            "text/plain": [
              "motor_class                  0\n",
              "motor_subclass               0\n",
              "fuel_consumption(L/100Km)    0\n",
              "emission_factor              0\n",
              "distanced                    0\n",
              "emissions                    0\n",
              "dtype: int64"
            ]
          },
          "metadata": {},
          "execution_count": 14
        }
      ],
      "source": [
        "# melihat missing values\n",
        "df[df==0].count()"
      ],
      "id": "ef91ebcc-8cd8-40e1-93f4-77ba533a90b3"
    },
    {
      "cell_type": "code",
      "execution_count": null,
      "metadata": {
        "colab": {
          "base_uri": "https://localhost:8080/",
          "height": 607
        },
        "id": "2ef23442-747d-4c62-8319-fa8deac55ccb",
        "outputId": "cddc5582-475c-49f1-f834-ae003d682257"
      },
      "outputs": [
        {
          "output_type": "display_data",
          "data": {
            "text/plain": [
              "<Figure size 800x600 with 2 Axes>"
            ],
            "image/png": "[encoded data removed]"
          },
          "metadata": {}
        }
      ],
      "source": [
        "motor_emissions_columns = {\n",
        "    'Motor': ['fuel_consumption(L/100Km)',\t'emission_factor',\t'distanced',\t'emissions'],\n",
        "}\n",
        "\n",
        "# Membuat subplots untuk masing-masing motor\n",
        "fig, axes = plt.subplots(1, 1, figsize=(8, 6))\n",
        "\n",
        "# Meloopi setiap motor\n",
        "for motor, columns in motor_emissions_columns.items():\n",
        "    # Subset kolom untuk motor tertentu\n",
        "    subset = df[columns].corr()\n",
        "    \n",
        "    # Heatmap untuk motor tertentu\n",
        "    sns.heatmap(subset, annot=True, ax=axes)\n",
        "    axes.set_title(f'Korelasi {car.capitalize()}')\n",
        "\n",
        "# Menampilkan plot\n",
        "plt.tight_layout()\n",
        "plt.show()"
      ],
      "id": "2ef23442-747d-4c62-8319-fa8deac55ccb"
    },
    {
      "cell_type": "code",
      "execution_count": null,
      "metadata": {
        "id": "6OqBYRSU3gbQ"
      },
      "outputs": [],
      "source": [
        "# Mengambil kolom numerik untuk perhitungan Z-score\n",
        "numeric_columns = ['fuel_consumption(L/100Km)',\t'emission_factor',\t'distanced',\t'emissions']"
      ],
      "id": "6OqBYRSU3gbQ"
    },
    {
      "cell_type": "markdown",
      "metadata": {
        "id": "ce90d76b-3196-4c00-a8ab-7cc8e1748fcf"
      },
      "source": [
        "### Feature Selection\n",
        "Akan dilakukan pemisahan fitur dan target untuk setiap kendaraan. \n",
        "Yang menjadi fitur adalah 'distanced', 'fuel_comsumption(L/100 Km)', dan 'emissions_factor', sedangkan untuk target kami adalah 'emissions'."
      ],
      "id": "ce90d76b-3196-4c00-a8ab-7cc8e1748fcf"
    },
    {
      "cell_type": "code",
      "execution_count": null,
      "metadata": {
        "id": "85f2b83c-8946-480e-8076-947103b3e5b3"
      },
      "outputs": [],
      "source": [
        "# Memisahkan fitur dan target untuk motor\n",
        "motor_features = df[['fuel_consumption(L/100Km)',\t'emission_factor',\t'distanced']]\n",
        "motor_target = df['emissions']"
      ],
      "id": "85f2b83c-8946-480e-8076-947103b3e5b3"
    },
    {
      "cell_type": "markdown",
      "source": [
        "# Normalize the features"
      ],
      "metadata": {
        "id": "zNpuiHj2wcbH"
      },
      "id": "zNpuiHj2wcbH"
    },
    {
      "cell_type": "code",
      "source": [
        "# Menormalkan Fitur \n",
        "scaler = StandardScaler()\n",
        "motor_features_normalized = scaler.fit_transform(motor_features)"
      ],
      "metadata": {
        "id": "N4BRr8Vhwhc_"
      },
      "id": "N4BRr8Vhwhc_",
      "execution_count": null,
      "outputs": []
    },
    {
      "cell_type": "markdown",
      "metadata": {
        "id": "e736fd42-a3b4-444c-91f8-353d6def2b81"
      },
      "source": [
        "### Splitting Data\n",
        "Data yang digunakan untuk training sebanyak 80% dan testing sebanyak 20%"
      ],
      "id": "e736fd42-a3b4-444c-91f8-353d6def2b81"
    },
    {
      "cell_type": "code",
      "execution_count": null,
      "metadata": {
        "id": "1cfcd3e8-9cca-4cbd-b43d-f7ed2bedde33"
      },
      "outputs": [],
      "source": [
        "# Membagi data motor menjadi set pelatihan dan pengujian\n",
        "motor_X_train, motor_X_test, motor_y_train, motor_y_test = train_test_split(motor_features, motor_target, test_size=0.2, random_state=42)"
      ],
      "id": "1cfcd3e8-9cca-4cbd-b43d-f7ed2bedde33"
    },
    {
      "cell_type": "markdown",
      "metadata": {
        "id": "d1b80200-e348-4aff-926b-5bfaa4066987"
      },
      "source": [
        "### Modelling \n",
        "Melatih model dengan regresi linier untuk setiap motor"
      ],
      "id": "d1b80200-e348-4aff-926b-5bfaa4066987"
    },
    {
      "cell_type": "code",
      "execution_count": null,
      "metadata": {
        "id": "ad32436c-5311-408e-a90c-a2d60804ddfe"
      },
      "outputs": [],
      "source": [
        "# Melatih model regresi linier untuk motor\n",
        "motor_model = LinearRegression()\n",
        "motor_model.fit(motor_X_train, motor_y_train)\n",
        "\n",
        "# Melakukan prediksi emisi karbon dari konsumsi motor\n",
        "motor_y_pred = motor_model.predict(motor_X_test)\n",
        "\n",
        "# Menghitung evaluasi performa model untuk motor\n",
        "motor_mse = mean_squared_error(motor_y_test, motor_y_pred)\n",
        "motor_r2 = r2_score(motor_y_test, motor_y_pred)"
      ],
      "id": "ad32436c-5311-408e-a90c-a2d60804ddfe"
    },
    {
      "cell_type": "markdown",
      "metadata": {
        "id": "b67e8786-0882-433e-8c88-d34cd0b66559"
      },
      "source": [
        "Untuk evaluasi performa model ini menggunakan MSE dibanding MAE karen beberapa pertimbangan-pertimbangan berikut:\n",
        "1. Dalam perhitungan MSE, bobot yang diberikan pada kesalahan yang besar lebih tinggi karena selisih antara nilai prediksi dan nilai sebenarnya di kuadratkan. Hal ini memungkinkan pengidentifikasian dan penekanan pada outlier atau kesalahan prediksi yang signifikan dalam model. Saya mengutamakan identifikasi kesalahan prediksi yang penting dan membutuhkan perhatian lebih.\n",
        "2. Selain itu saya juga ingin mengukur kesalahan prediksi dalam skala yang sama dengan variabel target, yaitu emisi karbon. MSE memberikan hasil dalam satuan kuadrat (misalnya, kg CO2e^2), yang konsisten dengan skala variabel target. Sehingga saya ingin memastikan bahwa ukuran kesalahan yang saya gunakan sesuai dengan skala yang relevan.\n",
        "3. MSE memberikan penekanan lebih pada kesalahan yang lebih besar karena mengkuadratkan selisih antara prediksi dan nilai sebenarnya. Sebagai seorang data scientist, saya ingin memastikan bahwa kesalahan prediksi yang signifikan memiliki dampak yang lebih besar pada penilaian performa model."
      ],
      "id": "b67e8786-0882-433e-8c88-d34cd0b66559"
    },
    {
      "cell_type": "code",
      "execution_count": null,
      "metadata": {
        "colab": {
          "base_uri": "https://localhost:8080/",
          "height": 472
        },
        "id": "580b4c1e-5a16-49e6-931c-f0807484de4b",
        "outputId": "c0022f14-af36-40ed-d436-3a6d9284391b"
      },
      "outputs": [
        {
          "output_type": "display_data",
          "data": {
            "text/plain": [
              "<Figure size 640x480 with 1 Axes>"
            ],
            "image/png": "[encoded data removed]"
          },
          "metadata": {}
        }
      ],
      "source": [
        "import numpy as np\n",
        "import matplotlib.pyplot as plt\n",
        "\n",
        "# Visualisasi dan garis regresi untuk motor\n",
        "plt.scatter(motor_y_test, motor_y_pred, color='blue', alpha=0.5)\n",
        "plt.plot(np.unique(motor_y_test), np.poly1d(np.polyfit(motor_y_test, motor_y_pred, 1))(np.unique(motor_y_test)), color='red')\n",
        "plt.xlabel('Nilai Sebenarnya')\n",
        "plt.ylabel('Prediksi')\n",
        "plt.title('Prediksi Emisi Karbon - Motor')\n",
        "plt.show()\n"
      ],
      "id": "580b4c1e-5a16-49e6-931c-f0807484de4b"
    },
    {
      "cell_type": "code",
      "execution_count": null,
      "metadata": {
        "colab": {
          "base_uri": "https://localhost:8080/"
        },
        "id": "2007ac5d-505e-43f4-9162-5ea2cd48fd4e",
        "outputId": "f3c938a7-bafd-43e7-82fa-de589f576723"
      },
      "outputs": [
        {
          "output_type": "stream",
          "name": "stdout",
          "text": [
            "Hasil evaluasi performa model untuk car:\n",
            "MSE: 1.496211163218264\n",
            "R-squared: 0.8736877684934633\n"
          ]
        }
      ],
      "source": [
        "# Menampilkan hasil evaluasi performa model\n",
        "print(\"Hasil evaluasi performa model untuk car:\")\n",
        "print(\"MSE:\", motor_mse)\n",
        "print(\"R-squared:\", motor_r2)"
      ],
      "id": "2007ac5d-505e-43f4-9162-5ea2cd48fd4e"
    },
    {
      "cell_type": "markdown",
      "metadata": {
        "id": "3cda82ef-df3f-4437-b0ab-5b67e1675267"
      },
      "source": [
        "# Interpretasi\n",
        "\n",
        "**Evaluasi performa model untuk mobil:**\n",
        "- MSE (Mean Squared Error): 1.496211163218264\n",
        "- R-squared: 0.8736877684934633\n",
        "- Evaluasi performa model untuk motor menunjukkan hasil yang baik. Nilai MSE yang rendah dan nilai R-squared yang cukup tinggi menunjukkan bahwa model regresi linear untuk motor memiliki tingkat kesalahan yang relatif kecil dan mampu menjelaskan sekitar 87.36% variasi dalam emisi karbon motor."
      ],
      "id": "3cda82ef-df3f-4437-b0ab-5b67e1675267"
    },
    {
      "cell_type": "markdown",
      "metadata": {
        "id": "dI5ZlRCrhipQ"
      },
      "source": [
        "# Membuat model Deep Learning. \n",
        "- model neural network dengan 3 layer untuk memprediksi emisi karbon dari konsumsi masing-masing kendaraan.\n",
        "- menggunakan fungsi aktivasi relu pada layer pertama dan kedua, dan tidak menggunakan fungsi aktivasi pada layer output karena masalah regresi.\n",
        "- Data diskalakan agar model dapat lebih efisien (menggunakan StandardScaler dari scikit-learn )"
      ],
      "id": "dI5ZlRCrhipQ"
    },
    {
      "cell_type": "code",
      "source": [
        "# Standarisasi fitur dengan StandardScaler\n",
        "scaler = StandardScaler()\n",
        "motor_X_train_scaled = scaler.fit_transform(motor_X_train)\n",
        "motor_X_test_scaled = scaler.transform(motor_X_test)\n",
        "\n",
        "# Create the model\n",
        "motor_model_tf = Sequential()\n",
        "motor_model_tf.add(Dense(128, input_dim=motor_X_train_scaled.shape[1], activation='relu'))\n",
        "motor_model_tf.add(Dense(64, activation='relu'))\n",
        "motor_model_tf.add(Dense(1))\n",
        "\n",
        "# Compile the model\n",
        "motor_model_tf.compile(loss='mean_squared_error', optimizer='adam')\n",
        "\n",
        "\n",
        "motor_model_tf.fit(motor_X_train_scaled, motor_y_train, epochs=20, batch_size=64, validation_split=0.2)\n",
        "\n",
        "# Reshape the input data to have shape (None, 3)\n",
        "motor_X_test_scaled_reshaped = motor_X_test_scaled.reshape(-1, 3)\n",
        "\n",
        "# Predict the output for new data\n",
        "motor_y_pred_tf = motor_model_tf.predict(motor_X_test_scaled_reshaped)\n",
        "\n",
        "# Evaluate the model\n",
        "motor_mse_tf = mean_squared_error(motor_y_test, motor_y_pred_tf)\n",
        "motor_rmse_tf = np.sqrt(motor_mse_tf)\n",
        "motor_r2_tf = r2_score(motor_y_test, motor_y_pred_tf)\n",
        "\n",
        "print(\"Hasil evaluasi performa model TensorFlow untuk Motor:\")\n",
        "print(\"MSE:\", motor_mse_tf)\n",
        "print(\"RMSE:\", motor_rmse_tf)\n",
        "print(\"R-squared:\", motor_r2_tf)"
      ],
      "metadata": {
        "colab": {
          "base_uri": "https://localhost:8080/"
        },
        "id": "-gL3j9buzqzN",
        "outputId": "4bad4452-c07e-42e3-c652-d361ca877465"
      },
      "id": "-gL3j9buzqzN",
      "execution_count": null,
      "outputs": [
        {
          "output_type": "stream",
          "name": "stdout",
          "text": [
            "Epoch 1/20\n",
            "7/7 [==============================] - 1s 37ms/step - loss: 39.7279 - val_loss: 29.5781\n",
            "Epoch 2/20\n",
            "7/7 [==============================] - 0s 13ms/step - loss: 35.1668 - val_loss: 25.7701\n",
            "Epoch 3/20\n",
            "7/7 [==============================] - 0s 22ms/step - loss: 30.6768 - val_loss: 21.7879\n",
            "Epoch 4/20\n",
            "7/7 [==============================] - 0s 21ms/step - loss: 25.7842 - val_loss: 17.7743\n",
            "Epoch 5/20\n",
            "7/7 [==============================] - 0s 20ms/step - loss: 20.7035 - val_loss: 13.8515\n",
            "Epoch 6/20\n",
            "7/7 [==============================] - 0s 20ms/step - loss: 15.6042 - val_loss: 10.1259\n",
            "Epoch 7/20\n",
            "7/7 [==============================] - 0s 11ms/step - loss: 10.7703 - val_loss: 6.8193\n",
            "Epoch 8/20\n",
            "7/7 [==============================] - 0s 11ms/step - loss: 7.0521 - val_loss: 4.3689\n",
            "Epoch 9/20\n",
            "7/7 [==============================] - 0s 10ms/step - loss: 4.5435 - val_loss: 3.0633\n",
            "Epoch 10/20\n",
            "7/7 [==============================] - 0s 12ms/step - loss: 3.5029 - val_loss: 2.3983\n",
            "Epoch 11/20\n",
            "7/7 [==============================] - 0s 10ms/step - loss: 2.9268 - val_loss: 1.9179\n",
            "Epoch 12/20\n",
            "7/7 [==============================] - 0s 10ms/step - loss: 2.3587 - val_loss: 1.6201\n",
            "Epoch 13/20\n",
            "7/7 [==============================] - 0s 8ms/step - loss: 2.0074 - val_loss: 1.4403\n",
            "Epoch 14/20\n",
            "7/7 [==============================] - 0s 9ms/step - loss: 1.7674 - val_loss: 1.3298\n",
            "Epoch 15/20\n",
            "7/7 [==============================] - 0s 9ms/step - loss: 1.5744 - val_loss: 1.2020\n",
            "Epoch 16/20\n",
            "7/7 [==============================] - 0s 9ms/step - loss: 1.4047 - val_loss: 1.0744\n",
            "Epoch 17/20\n",
            "7/7 [==============================] - 0s 9ms/step - loss: 1.2670 - val_loss: 0.9632\n",
            "Epoch 18/20\n",
            "7/7 [==============================] - 0s 9ms/step - loss: 1.1348 - val_loss: 0.8687\n",
            "Epoch 19/20\n",
            "7/7 [==============================] - 0s 10ms/step - loss: 1.0179 - val_loss: 0.7847\n",
            "Epoch 20/20\n",
            "7/7 [==============================] - 0s 10ms/step - loss: 0.9097 - val_loss: 0.7005\n",
            "Hasil evaluasi performa model TensorFlow untuk Motor:\n",
            "MSE: 0.8140663791033814\n",
            "RMSE: 0.9022562713017745\n",
            "R-squared: 0.9312753817998387\n"
          ]
        }
      ]
    },
    {
      "cell_type": "markdown",
      "source": [
        "**SAVE MODEL**\n",
        "### kita akan save model dalam bentuk h5 dan sebagai alternatif akan dikonversi kedalam bentuk tflite."
      ],
      "metadata": {
        "id": "WlAKyAmxrrm8"
      },
      "id": "WlAKyAmxrrm8"
    },
    {
      "cell_type": "code",
      "source": [
        "from google.colab import drive\n",
        "drive.mount('/content/gdrive', force_remount=True)"
      ],
      "metadata": {
        "colab": {
          "base_uri": "https://localhost:8080/"
        },
        "id": "XauH65AsLrAh",
        "outputId": "6ce61c31-56c7-4dcf-cd98-e463c3bdea53"
      },
      "id": "XauH65AsLrAh",
      "execution_count": null,
      "outputs": [
        {
          "output_type": "stream",
          "name": "stdout",
          "text": [
            "Mounted at /content/gdrive\n"
          ]
        }
      ]
    },
    {
      "cell_type": "code",
      "source": [
        "motor_model_tf.save('/content/gdrive/MyDrive/Vehicle_Greenix/Model/motor_model.h5')"
      ],
      "metadata": {
        "id": "04YmkV4mJeTx"
      },
      "id": "04YmkV4mJeTx",
      "execution_count": null,
      "outputs": []
    },
    {
      "cell_type": "code",
      "source": [
        "import tensorflow as tf\n",
        "from tensorflow.keras.models import load_model\n",
        "\n",
        "# Load the saved model.\n",
        "model = load_model('/content/gdrive/MyDrive/Vehicle_Greenix/Model/motor_model.h5')\n",
        "\n",
        "# Convert the model to TFLite.\n",
        "converter = tf.lite.TFLiteConverter.from_keras_model(model)\n",
        "tflite_model = converter.convert()\n",
        "\n",
        "# Save the TFLite model.\n",
        "with open('car_model.tflite', 'wb') as f:\n",
        "    f.write(tflite_model)\n",
        "\n",
        "motor_model_tf.save('/content/gdrive/MyDrive/Vehicle_Greenix/Model/motor_model.tflite')"
      ],
      "metadata": {
        "id": "vgrQg0wfaWkx"
      },
      "id": "vgrQg0wfaWkx",
      "execution_count": null,
      "outputs": []
    },
    {
      "cell_type": "code",
      "source": [
        "from tensorflow.keras.models import load_model\n",
        "\n",
        "# Load model\n",
        "motor_model = load_model('/content/gdrive/MyDrive/Vehicle_Greenix/Model/motor_model.h5')"
      ],
      "metadata": {
        "id": "nXurBxPUT9YJ"
      },
      "id": "nXurBxPUT9YJ",
      "execution_count": null,
      "outputs": []
    },
    {
      "cell_type": "markdown",
      "source": [
        "Make Prediction New Data With Our Model\n"
      ],
      "metadata": {
        "id": "qwahuB1xsMMr"
      },
      "id": "qwahuB1xsMMr"
    },
    {
      "cell_type": "code",
      "execution_count": null,
      "metadata": {
        "id": "ngMyLnKKgSRH",
        "colab": {
          "base_uri": "https://localhost:8080/"
        },
        "outputId": "a0805dd8-6b31-4912-d538-7d01013e593c"
      },
      "outputs": [
        {
          "output_type": "stream",
          "name": "stdout",
          "text": [
            "Prediksi Emisi Motor adalah: [30.644266]\n"
          ]
        }
      ],
      "source": [
        "import tensorflow as tf\n",
        "import numpy as np\n",
        "\n",
        "# Load the model\n",
        "model = tf.keras.models.load_model('/content/gdrive/MyDrive/Vehicle_Greenix/Model/motor_model.h5')\n",
        "\n",
        "# Define the new data\n",
        "distance = 10\n",
        "fuel_consumption = 1\n",
        "placeholder_value = 0\n",
        "\n",
        "# Scale the new data\n",
        "new_data = np.array([[distance, fuel_consumption, placeholder_value]])\n",
        "\n",
        "# Make a prediction\n",
        "prediction = model.predict(new_data)\n",
        "\n",
        "# Print the prediction\n",
        "print(\"Prediksi Emisi Motor adalah:\", prediction[0])"
      ],
      "id": "ngMyLnKKgSRH"
    }
  ],
  "metadata": {
    "colab": {
      "provenance": [],
      "include_colab_link": true
    },
    "kernelspec": {
      "display_name": "Python 3 (ipykernel)",
      "language": "python",
      "name": "python3"
    },
    "language_info": {
      "codemirror_mode": {
        "name": "ipython",
        "version": 3
      },
      "file_extension": ".py",
      "mimetype": "text/x-python",
      "name": "python",
      "nbconvert_exporter": "python",
      "pygments_lexer": "ipython3",
      "version": "3.9.7"
    }
  },
  "nbformat": 4,
  "nbformat_minor": 5
}